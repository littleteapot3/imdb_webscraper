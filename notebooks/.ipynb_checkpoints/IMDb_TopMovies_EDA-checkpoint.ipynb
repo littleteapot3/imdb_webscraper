{
 "cells": [
  {
   "cell_type": "markdown",
   "id": "907bf6c0-f24e-4bea-9efb-4512916b55cc",
   "metadata": {},
   "source": [
    "<div style=\"border: 2px solid gold; padding: 10px; background-color: white;\">\n",
    "    <span style=\"color: black; font-size: 28px;\">Introduction:</span> \n",
    "</div>"
   ]
  },
  {
   "cell_type": "markdown",
   "id": "3b1e6e87-fe11-4dc6-bd09-25cebead32bc",
   "metadata": {},
   "source": [
    "<div style=\"background-color: black; padding: 10px;\">\n",
    "    <h1 style=\"color: gold;\">  &nbsp;&nbsp;&nbsp;&nbsp;IMDB Data Analysis - Code Jam</h1>\n",
    "    <h2 style=\"color: gold;\">  &nbsp;&nbsp;&nbsp;&nbsp;brought to you by ... Monty's Data Circus</h2>\n",
    "    <h3 style=\"color: gold;\">  &nbsp;&nbsp;&nbsp;&nbsp;The goal of this project is to use data scraped from the IMDB website which contains data on the top 250 movies and\n",
    "associated actors to answer these three questions:</h3>\n",
    "    <ul style=\"color: gold; list-style-type: none;\">\n",
    "        <li style=\"font-size: 20px;\">  &nbsp;&nbsp;&nbsp;&nbsp;Is there a relationship between movie duration and release year?</li>\n",
    "        <li style=\"font-size: 20px;\">  &nbsp;&nbsp;&nbsp;&nbsp;Is there a correlation between oscars nominated/oscars won and popularity score?</li>\n",
    "        <li style=\"font-size: 20px;\">  &nbsp;&nbsp;&nbsp;&nbsp;What is the distribution of rating class by genre?</li>\n",
    "    </ul>\n",
    "</div>"
   ]
  },
  {
   "cell_type": "markdown",
   "id": "1f54425e-f40b-459b-ac86-da488d206d9a",
   "metadata": {},
   "source": [
    "<div style=\"border: 2px solid gold; padding: 10px; background-color: white;\">\n",
    "    <span style=\"color: black; font-size: 28px;\">Load libraries:</span> \n",
    "</div>"
   ]
  },
  {
   "cell_type": "code",
   "execution_count": 1,
   "id": "e1132477-5608-48cc-a862-0f92e85c3bb9",
   "metadata": {},
   "outputs": [],
   "source": [
    "import pandas as pd\n",
    "import numpy as np\n",
    "import seaborn as sns\n",
    "import matplotlib.pyplot as plt\n",
    "import plotly.express as px\n",
    "import os\n",
    "import matplotlib.colors as mcolors"
   ]
  },
  {
   "cell_type": "code",
   "execution_count": 2,
   "id": "e670b50c-950f-4525-971d-5615b118686e",
   "metadata": {},
   "outputs": [
    {
     "data": {
      "text/html": [
       "<div>\n",
       "<style scoped>\n",
       "    .dataframe tbody tr th:only-of-type {\n",
       "        vertical-align: middle;\n",
       "    }\n",
       "\n",
       "    .dataframe tbody tr th {\n",
       "        vertical-align: top;\n",
       "    }\n",
       "\n",
       "    .dataframe thead th {\n",
       "        text-align: right;\n",
       "    }\n",
       "</style>\n",
       "<table border=\"1\" class=\"dataframe\">\n",
       "  <thead>\n",
       "    <tr style=\"text-align: right;\">\n",
       "      <th></th>\n",
       "      <th>rank</th>\n",
       "      <th>title</th>\n",
       "      <th>year</th>\n",
       "      <th>rating</th>\n",
       "      <th>duration</th>\n",
       "      <th>imdb_rating</th>\n",
       "      <th>genre</th>\n",
       "      <th>url</th>\n",
       "      <th>movie_url</th>\n",
       "      <th>popularity_score</th>\n",
       "      <th>oscar_wins</th>\n",
       "      <th>oscar_nominations</th>\n",
       "      <th>star_1</th>\n",
       "      <th>star_1_link</th>\n",
       "      <th>star_2</th>\n",
       "      <th>star_2_link</th>\n",
       "      <th>star_3</th>\n",
       "      <th>star_3_link</th>\n",
       "    </tr>\n",
       "  </thead>\n",
       "  <tbody>\n",
       "    <tr>\n",
       "      <th>0</th>\n",
       "      <td>1</td>\n",
       "      <td>The Shawshank Redemption</td>\n",
       "      <td>1994</td>\n",
       "      <td>R</td>\n",
       "      <td>2h 22m</td>\n",
       "      <td>9.3</td>\n",
       "      <td>Drama</td>\n",
       "      <td>https://www.imdb.com/title/tt0111161/</td>\n",
       "      <td>https://www.imdb.com/title/tt0111161/</td>\n",
       "      <td>54</td>\n",
       "      <td>0</td>\n",
       "      <td>7</td>\n",
       "      <td>Tim Robbins</td>\n",
       "      <td>https://www.imdb.com/name/nm0000209/?ref_=tt_c...</td>\n",
       "      <td>Morgan Freeman</td>\n",
       "      <td>https://www.imdb.com/name/nm0000151/?ref_=tt_c...</td>\n",
       "      <td>Bob Gunton</td>\n",
       "      <td>https://www.imdb.com/name/nm0348409/?ref_=tt_c...</td>\n",
       "    </tr>\n",
       "    <tr>\n",
       "      <th>1</th>\n",
       "      <td>2</td>\n",
       "      <td>The Godfather</td>\n",
       "      <td>1972</td>\n",
       "      <td>R</td>\n",
       "      <td>2h 55m</td>\n",
       "      <td>9.2</td>\n",
       "      <td>Crime, Drama</td>\n",
       "      <td>https://www.imdb.com/title/tt0068646/</td>\n",
       "      <td>https://www.imdb.com/title/tt0068646/</td>\n",
       "      <td>79</td>\n",
       "      <td>3</td>\n",
       "      <td>0</td>\n",
       "      <td>Marlon Brando</td>\n",
       "      <td>https://www.imdb.com/name/nm0000008/?ref_=tt_c...</td>\n",
       "      <td>Al Pacino</td>\n",
       "      <td>https://www.imdb.com/name/nm0000199/?ref_=tt_c...</td>\n",
       "      <td>James Caan</td>\n",
       "      <td>https://www.imdb.com/name/nm0001001/?ref_=tt_c...</td>\n",
       "    </tr>\n",
       "    <tr>\n",
       "      <th>2</th>\n",
       "      <td>3</td>\n",
       "      <td>The Dark Knight</td>\n",
       "      <td>2008</td>\n",
       "      <td>PG-13</td>\n",
       "      <td>2h 32m</td>\n",
       "      <td>9.0</td>\n",
       "      <td>Action, Crime, Drama</td>\n",
       "      <td>https://www.imdb.com/title/tt0468569/</td>\n",
       "      <td>https://www.imdb.com/title/tt0468569/</td>\n",
       "      <td>102</td>\n",
       "      <td>2</td>\n",
       "      <td>0</td>\n",
       "      <td>Christian Bale</td>\n",
       "      <td>https://www.imdb.com/name/nm0000288/?ref_=tt_c...</td>\n",
       "      <td>Heath Ledger</td>\n",
       "      <td>https://www.imdb.com/name/nm0005132/?ref_=tt_c...</td>\n",
       "      <td>Aaron Eckhart</td>\n",
       "      <td>https://www.imdb.com/name/nm0001173/?ref_=tt_c...</td>\n",
       "    </tr>\n",
       "    <tr>\n",
       "      <th>3</th>\n",
       "      <td>4</td>\n",
       "      <td>The Godfather Part II</td>\n",
       "      <td>1974</td>\n",
       "      <td>R</td>\n",
       "      <td>3h 22m</td>\n",
       "      <td>9.0</td>\n",
       "      <td>Crime, Drama</td>\n",
       "      <td>https://www.imdb.com/title/tt0071562/</td>\n",
       "      <td>https://www.imdb.com/title/tt0071562/</td>\n",
       "      <td>370</td>\n",
       "      <td>6</td>\n",
       "      <td>0</td>\n",
       "      <td>Al Pacino</td>\n",
       "      <td>https://www.imdb.com/name/nm0000199/?ref_=tt_c...</td>\n",
       "      <td>Robert De Niro</td>\n",
       "      <td>https://www.imdb.com/name/nm0000134/?ref_=tt_c...</td>\n",
       "      <td>Robert Duvall</td>\n",
       "      <td>https://www.imdb.com/name/nm0000380/?ref_=tt_c...</td>\n",
       "    </tr>\n",
       "    <tr>\n",
       "      <th>4</th>\n",
       "      <td>5</td>\n",
       "      <td>12 Angry Men</td>\n",
       "      <td>1957</td>\n",
       "      <td>Approved</td>\n",
       "      <td>1h 36m</td>\n",
       "      <td>9.0</td>\n",
       "      <td>Crime, Drama</td>\n",
       "      <td>https://www.imdb.com/title/tt0050083/</td>\n",
       "      <td>https://www.imdb.com/title/tt0050083/</td>\n",
       "      <td>261</td>\n",
       "      <td>0</td>\n",
       "      <td>3</td>\n",
       "      <td>Henry Fonda</td>\n",
       "      <td>https://www.imdb.com/name/nm0000020/?ref_=tt_c...</td>\n",
       "      <td>Lee J. Cobb</td>\n",
       "      <td>https://www.imdb.com/name/nm0002011/?ref_=tt_c...</td>\n",
       "      <td>Martin Balsam</td>\n",
       "      <td>https://www.imdb.com/name/nm0000842/?ref_=tt_c...</td>\n",
       "    </tr>\n",
       "  </tbody>\n",
       "</table>\n",
       "</div>"
      ],
      "text/plain": [
       "   rank                     title  year    rating duration  imdb_rating  \\\n",
       "0     1  The Shawshank Redemption  1994         R   2h 22m          9.3   \n",
       "1     2             The Godfather  1972         R   2h 55m          9.2   \n",
       "2     3           The Dark Knight  2008     PG-13   2h 32m          9.0   \n",
       "3     4     The Godfather Part II  1974         R   3h 22m          9.0   \n",
       "4     5              12 Angry Men  1957  Approved   1h 36m          9.0   \n",
       "\n",
       "                  genre                                    url  \\\n",
       "0                 Drama  https://www.imdb.com/title/tt0111161/   \n",
       "1          Crime, Drama  https://www.imdb.com/title/tt0068646/   \n",
       "2  Action, Crime, Drama  https://www.imdb.com/title/tt0468569/   \n",
       "3          Crime, Drama  https://www.imdb.com/title/tt0071562/   \n",
       "4          Crime, Drama  https://www.imdb.com/title/tt0050083/   \n",
       "\n",
       "                               movie_url  popularity_score  oscar_wins  \\\n",
       "0  https://www.imdb.com/title/tt0111161/                54           0   \n",
       "1  https://www.imdb.com/title/tt0068646/                79           3   \n",
       "2  https://www.imdb.com/title/tt0468569/               102           2   \n",
       "3  https://www.imdb.com/title/tt0071562/               370           6   \n",
       "4  https://www.imdb.com/title/tt0050083/               261           0   \n",
       "\n",
       "   oscar_nominations          star_1  \\\n",
       "0                  7     Tim Robbins   \n",
       "1                  0   Marlon Brando   \n",
       "2                  0  Christian Bale   \n",
       "3                  0       Al Pacino   \n",
       "4                  3     Henry Fonda   \n",
       "\n",
       "                                         star_1_link          star_2  \\\n",
       "0  https://www.imdb.com/name/nm0000209/?ref_=tt_c...  Morgan Freeman   \n",
       "1  https://www.imdb.com/name/nm0000008/?ref_=tt_c...       Al Pacino   \n",
       "2  https://www.imdb.com/name/nm0000288/?ref_=tt_c...    Heath Ledger   \n",
       "3  https://www.imdb.com/name/nm0000199/?ref_=tt_c...  Robert De Niro   \n",
       "4  https://www.imdb.com/name/nm0000020/?ref_=tt_c...     Lee J. Cobb   \n",
       "\n",
       "                                         star_2_link         star_3  \\\n",
       "0  https://www.imdb.com/name/nm0000151/?ref_=tt_c...     Bob Gunton   \n",
       "1  https://www.imdb.com/name/nm0000199/?ref_=tt_c...     James Caan   \n",
       "2  https://www.imdb.com/name/nm0005132/?ref_=tt_c...  Aaron Eckhart   \n",
       "3  https://www.imdb.com/name/nm0000134/?ref_=tt_c...  Robert Duvall   \n",
       "4  https://www.imdb.com/name/nm0002011/?ref_=tt_c...  Martin Balsam   \n",
       "\n",
       "                                         star_3_link  \n",
       "0  https://www.imdb.com/name/nm0348409/?ref_=tt_c...  \n",
       "1  https://www.imdb.com/name/nm0001001/?ref_=tt_c...  \n",
       "2  https://www.imdb.com/name/nm0001173/?ref_=tt_c...  \n",
       "3  https://www.imdb.com/name/nm0000380/?ref_=tt_c...  \n",
       "4  https://www.imdb.com/name/nm0000842/?ref_=tt_c...  "
      ]
     },
     "execution_count": 2,
     "metadata": {},
     "output_type": "execute_result"
    }
   ],
   "source": [
    "movie_details = pd.read_csv('datasets/movie_details_8FEB.csv')\n",
    "movie_details.head()"
   ]
  },
  {
   "cell_type": "code",
   "execution_count": 3,
   "id": "579f1a7c-e9df-4f31-b84f-f1d0849e5f95",
   "metadata": {},
   "outputs": [
    {
     "name": "stdout",
     "output_type": "stream",
     "text": [
      "<class 'pandas.core.frame.DataFrame'>\n",
      "RangeIndex: 250 entries, 0 to 249\n",
      "Data columns (total 18 columns):\n",
      " #   Column             Non-Null Count  Dtype  \n",
      "---  ------             --------------  -----  \n",
      " 0   rank               250 non-null    int64  \n",
      " 1   title              250 non-null    object \n",
      " 2   year               250 non-null    int64  \n",
      " 3   rating             245 non-null    object \n",
      " 4   duration           250 non-null    object \n",
      " 5   imdb_rating        250 non-null    float64\n",
      " 6   genre              250 non-null    object \n",
      " 7   url                250 non-null    object \n",
      " 8   movie_url          250 non-null    object \n",
      " 9   popularity_score   250 non-null    int64  \n",
      " 10  oscar_wins         250 non-null    int64  \n",
      " 11  oscar_nominations  250 non-null    int64  \n",
      " 12  star_1             249 non-null    object \n",
      " 13  star_1_link        249 non-null    object \n",
      " 14  star_2             249 non-null    object \n",
      " 15  star_2_link        249 non-null    object \n",
      " 16  star_3             249 non-null    object \n",
      " 17  star_3_link        249 non-null    object \n",
      "dtypes: float64(1), int64(5), object(12)\n",
      "memory usage: 35.3+ KB\n"
     ]
    }
   ],
   "source": [
    "movie_details.info()"
   ]
  },
  {
   "cell_type": "markdown",
   "id": "b771dfea-1be4-4244-8421-0e3ad72e0be8",
   "metadata": {},
   "source": [
    "<div style=\"border: 2px solid gold; padding: 10px; background-color: white;\">\n",
    "    <span style=\"color: black; font-size: 28px;\">Cleaning the data:</span> \n",
    "</div>"
   ]
  },
  {
   "cell_type": "code",
   "execution_count": 4,
   "id": "49fffd54-b642-4cc3-b61c-552b66acd9b4",
   "metadata": {},
   "outputs": [
    {
     "data": {
      "text/plain": [
       "rank                 0\n",
       "title                0\n",
       "year                 0\n",
       "rating               5\n",
       "duration             0\n",
       "imdb_rating          0\n",
       "genre                0\n",
       "url                  0\n",
       "movie_url            0\n",
       "popularity_score     0\n",
       "oscar_wins           0\n",
       "oscar_nominations    0\n",
       "star_1               1\n",
       "star_1_link          1\n",
       "star_2               1\n",
       "star_2_link          1\n",
       "star_3               1\n",
       "star_3_link          1\n",
       "dtype: int64"
      ]
     },
     "execution_count": 4,
     "metadata": {},
     "output_type": "execute_result"
    }
   ],
   "source": [
    "movie_details.isna().sum()"
   ]
  },
  {
   "cell_type": "code",
   "execution_count": 5,
   "id": "1472c2a9-1ee7-4976-9e1f-3f4e12f5ab88",
   "metadata": {},
   "outputs": [
    {
     "data": {
      "text/html": [
       "<div>\n",
       "<style scoped>\n",
       "    .dataframe tbody tr th:only-of-type {\n",
       "        vertical-align: middle;\n",
       "    }\n",
       "\n",
       "    .dataframe tbody tr th {\n",
       "        vertical-align: top;\n",
       "    }\n",
       "\n",
       "    .dataframe thead th {\n",
       "        text-align: right;\n",
       "    }\n",
       "</style>\n",
       "<table border=\"1\" class=\"dataframe\">\n",
       "  <thead>\n",
       "    <tr style=\"text-align: right;\">\n",
       "      <th></th>\n",
       "      <th>rank</th>\n",
       "      <th>title</th>\n",
       "      <th>year</th>\n",
       "      <th>rating</th>\n",
       "      <th>duration</th>\n",
       "      <th>imdb_rating</th>\n",
       "      <th>genre</th>\n",
       "      <th>url</th>\n",
       "      <th>movie_url</th>\n",
       "      <th>popularity_score</th>\n",
       "      <th>oscar_wins</th>\n",
       "      <th>oscar_nominations</th>\n",
       "      <th>star_1</th>\n",
       "      <th>star_1_link</th>\n",
       "      <th>star_2</th>\n",
       "      <th>star_2_link</th>\n",
       "      <th>star_3</th>\n",
       "      <th>star_3_link</th>\n",
       "    </tr>\n",
       "  </thead>\n",
       "  <tbody>\n",
       "    <tr>\n",
       "      <th>66</th>\n",
       "      <td>67</td>\n",
       "      <td>12th Fail</td>\n",
       "      <td>2023</td>\n",
       "      <td>NaN</td>\n",
       "      <td>2h 27m</td>\n",
       "      <td>8.8</td>\n",
       "      <td>Biography, Drama</td>\n",
       "      <td>https://www.imdb.com/title/tt23849204/</td>\n",
       "      <td>https://www.imdb.com/title/tt23849204/</td>\n",
       "      <td>569</td>\n",
       "      <td>0</td>\n",
       "      <td>0</td>\n",
       "      <td>Vikrant Massey</td>\n",
       "      <td>https://www.imdb.com/name/nm5447706/?ref_=tt_c...</td>\n",
       "      <td>Medha Shankr</td>\n",
       "      <td>https://www.imdb.com/name/nm10791162/?ref_=tt_...</td>\n",
       "      <td>Anant Joshi</td>\n",
       "      <td>https://www.imdb.com/name/nm8910763/?ref_=tt_c...</td>\n",
       "    </tr>\n",
       "    <tr>\n",
       "      <th>79</th>\n",
       "      <td>80</td>\n",
       "      <td>Das Boot</td>\n",
       "      <td>1981</td>\n",
       "      <td>NaN</td>\n",
       "      <td>2h 29m</td>\n",
       "      <td>8.4</td>\n",
       "      <td>Drama, War</td>\n",
       "      <td>https://www.imdb.com/title/tt0082096/</td>\n",
       "      <td>https://www.imdb.com/title/tt0082096/</td>\n",
       "      <td>2003</td>\n",
       "      <td>0</td>\n",
       "      <td>6</td>\n",
       "      <td>Jürgen Prochnow</td>\n",
       "      <td>https://www.imdb.com/name/nm0001638/?ref_=tt_c...</td>\n",
       "      <td>Herbert Grönemeyer</td>\n",
       "      <td>https://www.imdb.com/name/nm0344963/?ref_=tt_c...</td>\n",
       "      <td>Klaus Wennemann</td>\n",
       "      <td>https://www.imdb.com/name/nm0921044/?ref_=tt_c...</td>\n",
       "    </tr>\n",
       "    <tr>\n",
       "      <th>82</th>\n",
       "      <td>83</td>\n",
       "      <td>Kimi no na wa.</td>\n",
       "      <td>2016</td>\n",
       "      <td>NaN</td>\n",
       "      <td>1h 46m</td>\n",
       "      <td>8.4</td>\n",
       "      <td>Animation, Drama, Fantasy</td>\n",
       "      <td>https://www.imdb.com/title/tt5311514/</td>\n",
       "      <td>https://www.imdb.com/title/tt5311514/</td>\n",
       "      <td>756</td>\n",
       "      <td>0</td>\n",
       "      <td>0</td>\n",
       "      <td>Ryunosuke Kamiki</td>\n",
       "      <td>https://www.imdb.com/name/nm1126340/?ref_=tt_c...</td>\n",
       "      <td>Mone Kamishiraishi</td>\n",
       "      <td>https://www.imdb.com/name/nm4759838/?ref_=tt_c...</td>\n",
       "      <td>Ryo Narita</td>\n",
       "      <td>https://www.imdb.com/name/nm6954008/?ref_=tt_c...</td>\n",
       "    </tr>\n",
       "    <tr>\n",
       "      <th>209</th>\n",
       "      <td>210</td>\n",
       "      <td>Maharaja</td>\n",
       "      <td>2024</td>\n",
       "      <td>NaN</td>\n",
       "      <td>2h 21m</td>\n",
       "      <td>8.4</td>\n",
       "      <td>Action, Crime, Drama</td>\n",
       "      <td>https://www.imdb.com/title/tt26548265/</td>\n",
       "      <td>https://www.imdb.com/title/tt26548265/</td>\n",
       "      <td>953</td>\n",
       "      <td>0</td>\n",
       "      <td>0</td>\n",
       "      <td>Vijay Sethupathi</td>\n",
       "      <td>https://www.imdb.com/name/nm4043111/?ref_=tt_c...</td>\n",
       "      <td>Anurag Kashyap</td>\n",
       "      <td>https://www.imdb.com/name/nm0440604/?ref_=tt_c...</td>\n",
       "      <td>Mamta Mohandas</td>\n",
       "      <td>https://www.imdb.com/name/nm1952830/?ref_=tt_c...</td>\n",
       "    </tr>\n",
       "    <tr>\n",
       "      <th>215</th>\n",
       "      <td>216</td>\n",
       "      <td>Kimetsu no Yaiba: Tsuzumi Yashiki-hen</td>\n",
       "      <td>2021</td>\n",
       "      <td>NaN</td>\n",
       "      <td>1h 27m</td>\n",
       "      <td>8.6</td>\n",
       "      <td>Animation, Action, Fantasy</td>\n",
       "      <td>https://www.imdb.com/title/tt16492678/</td>\n",
       "      <td>https://www.imdb.com/title/tt16492678/</td>\n",
       "      <td>0</td>\n",
       "      <td>0</td>\n",
       "      <td>0</td>\n",
       "      <td>NaN</td>\n",
       "      <td>NaN</td>\n",
       "      <td>NaN</td>\n",
       "      <td>NaN</td>\n",
       "      <td>NaN</td>\n",
       "      <td>NaN</td>\n",
       "    </tr>\n",
       "  </tbody>\n",
       "</table>\n",
       "</div>"
      ],
      "text/plain": [
       "     rank                                  title  year rating duration  \\\n",
       "66     67                              12th Fail  2023    NaN   2h 27m   \n",
       "79     80                               Das Boot  1981    NaN   2h 29m   \n",
       "82     83                         Kimi no na wa.  2016    NaN   1h 46m   \n",
       "209   210                               Maharaja  2024    NaN   2h 21m   \n",
       "215   216  Kimetsu no Yaiba: Tsuzumi Yashiki-hen  2021    NaN   1h 27m   \n",
       "\n",
       "     imdb_rating                       genre  \\\n",
       "66           8.8            Biography, Drama   \n",
       "79           8.4                  Drama, War   \n",
       "82           8.4   Animation, Drama, Fantasy   \n",
       "209          8.4        Action, Crime, Drama   \n",
       "215          8.6  Animation, Action, Fantasy   \n",
       "\n",
       "                                        url  \\\n",
       "66   https://www.imdb.com/title/tt23849204/   \n",
       "79    https://www.imdb.com/title/tt0082096/   \n",
       "82    https://www.imdb.com/title/tt5311514/   \n",
       "209  https://www.imdb.com/title/tt26548265/   \n",
       "215  https://www.imdb.com/title/tt16492678/   \n",
       "\n",
       "                                  movie_url  popularity_score  oscar_wins  \\\n",
       "66   https://www.imdb.com/title/tt23849204/               569           0   \n",
       "79    https://www.imdb.com/title/tt0082096/              2003           0   \n",
       "82    https://www.imdb.com/title/tt5311514/               756           0   \n",
       "209  https://www.imdb.com/title/tt26548265/               953           0   \n",
       "215  https://www.imdb.com/title/tt16492678/                 0           0   \n",
       "\n",
       "     oscar_nominations            star_1  \\\n",
       "66                   0    Vikrant Massey   \n",
       "79                   6   Jürgen Prochnow   \n",
       "82                   0  Ryunosuke Kamiki   \n",
       "209                  0  Vijay Sethupathi   \n",
       "215                  0               NaN   \n",
       "\n",
       "                                           star_1_link              star_2  \\\n",
       "66   https://www.imdb.com/name/nm5447706/?ref_=tt_c...        Medha Shankr   \n",
       "79   https://www.imdb.com/name/nm0001638/?ref_=tt_c...  Herbert Grönemeyer   \n",
       "82   https://www.imdb.com/name/nm1126340/?ref_=tt_c...  Mone Kamishiraishi   \n",
       "209  https://www.imdb.com/name/nm4043111/?ref_=tt_c...      Anurag Kashyap   \n",
       "215                                                NaN                 NaN   \n",
       "\n",
       "                                           star_2_link           star_3  \\\n",
       "66   https://www.imdb.com/name/nm10791162/?ref_=tt_...      Anant Joshi   \n",
       "79   https://www.imdb.com/name/nm0344963/?ref_=tt_c...  Klaus Wennemann   \n",
       "82   https://www.imdb.com/name/nm4759838/?ref_=tt_c...       Ryo Narita   \n",
       "209  https://www.imdb.com/name/nm0440604/?ref_=tt_c...   Mamta Mohandas   \n",
       "215                                                NaN              NaN   \n",
       "\n",
       "                                           star_3_link  \n",
       "66   https://www.imdb.com/name/nm8910763/?ref_=tt_c...  \n",
       "79   https://www.imdb.com/name/nm0921044/?ref_=tt_c...  \n",
       "82   https://www.imdb.com/name/nm6954008/?ref_=tt_c...  \n",
       "209  https://www.imdb.com/name/nm1952830/?ref_=tt_c...  \n",
       "215                                                NaN  "
      ]
     },
     "metadata": {},
     "output_type": "display_data"
    }
   ],
   "source": [
    "display(movie_details[movie_details['rating'].isna()])"
   ]
  },
  {
   "cell_type": "code",
   "execution_count": 6,
   "id": "a4ec8533-8f78-4db1-a2ea-276ea6dc9483",
   "metadata": {},
   "outputs": [
    {
     "data": {
      "text/html": [
       "<div>\n",
       "<style scoped>\n",
       "    .dataframe tbody tr th:only-of-type {\n",
       "        vertical-align: middle;\n",
       "    }\n",
       "\n",
       "    .dataframe tbody tr th {\n",
       "        vertical-align: top;\n",
       "    }\n",
       "\n",
       "    .dataframe thead th {\n",
       "        text-align: right;\n",
       "    }\n",
       "</style>\n",
       "<table border=\"1\" class=\"dataframe\">\n",
       "  <thead>\n",
       "    <tr style=\"text-align: right;\">\n",
       "      <th></th>\n",
       "      <th>rank</th>\n",
       "      <th>title</th>\n",
       "      <th>year</th>\n",
       "      <th>rating</th>\n",
       "      <th>duration</th>\n",
       "      <th>imdb_rating</th>\n",
       "      <th>genre</th>\n",
       "      <th>url</th>\n",
       "      <th>movie_url</th>\n",
       "      <th>popularity_score</th>\n",
       "      <th>oscar_wins</th>\n",
       "      <th>oscar_nominations</th>\n",
       "      <th>star_1</th>\n",
       "      <th>star_1_link</th>\n",
       "      <th>star_2</th>\n",
       "      <th>star_2_link</th>\n",
       "      <th>star_3</th>\n",
       "      <th>star_3_link</th>\n",
       "    </tr>\n",
       "  </thead>\n",
       "  <tbody>\n",
       "    <tr>\n",
       "      <th>215</th>\n",
       "      <td>216</td>\n",
       "      <td>Kimetsu no Yaiba: Tsuzumi Yashiki-hen</td>\n",
       "      <td>2021</td>\n",
       "      <td>NaN</td>\n",
       "      <td>1h 27m</td>\n",
       "      <td>8.6</td>\n",
       "      <td>Animation, Action, Fantasy</td>\n",
       "      <td>https://www.imdb.com/title/tt16492678/</td>\n",
       "      <td>https://www.imdb.com/title/tt16492678/</td>\n",
       "      <td>0</td>\n",
       "      <td>0</td>\n",
       "      <td>0</td>\n",
       "      <td>NaN</td>\n",
       "      <td>NaN</td>\n",
       "      <td>NaN</td>\n",
       "      <td>NaN</td>\n",
       "      <td>NaN</td>\n",
       "      <td>NaN</td>\n",
       "    </tr>\n",
       "  </tbody>\n",
       "</table>\n",
       "</div>"
      ],
      "text/plain": [
       "     rank                                  title  year rating duration  \\\n",
       "215   216  Kimetsu no Yaiba: Tsuzumi Yashiki-hen  2021    NaN   1h 27m   \n",
       "\n",
       "     imdb_rating                       genre  \\\n",
       "215          8.6  Animation, Action, Fantasy   \n",
       "\n",
       "                                        url  \\\n",
       "215  https://www.imdb.com/title/tt16492678/   \n",
       "\n",
       "                                  movie_url  popularity_score  oscar_wins  \\\n",
       "215  https://www.imdb.com/title/tt16492678/                 0           0   \n",
       "\n",
       "     oscar_nominations star_1 star_1_link star_2 star_2_link star_3  \\\n",
       "215                  0    NaN         NaN    NaN         NaN    NaN   \n",
       "\n",
       "    star_3_link  \n",
       "215         NaN  "
      ]
     },
     "metadata": {},
     "output_type": "display_data"
    }
   ],
   "source": [
    "#Dropping row at index 215\n",
    "display(movie_details[movie_details['star_1'].isna()])\n",
    "movie_details = movie_details.drop(215, axis = 0)\n",
    "movie_details.isna().sum()\n",
    "#Filling remaining missing values\n",
    "movie_details['rating'] = movie_details['rating'].fillna('Not Rated')"
   ]
  },
  {
   "cell_type": "code",
   "execution_count": 7,
   "id": "53fd536a-9e37-4563-8392-0cfdb05218a1",
   "metadata": {},
   "outputs": [
    {
     "data": {
      "text/plain": [
       "rank                 0\n",
       "title                0\n",
       "year                 0\n",
       "rating               0\n",
       "duration             0\n",
       "imdb_rating          0\n",
       "genre                0\n",
       "url                  0\n",
       "movie_url            0\n",
       "popularity_score     0\n",
       "oscar_wins           0\n",
       "oscar_nominations    0\n",
       "star_1               0\n",
       "star_1_link          0\n",
       "star_2               0\n",
       "star_2_link          0\n",
       "star_3               0\n",
       "star_3_link          0\n",
       "dtype: int64"
      ]
     },
     "execution_count": 7,
     "metadata": {},
     "output_type": "execute_result"
    }
   ],
   "source": [
    "#Verifying there are no missing values\n",
    "movie_details.isna().sum()"
   ]
  },
  {
   "cell_type": "code",
   "execution_count": 8,
   "id": "fb113a13-5c1f-474b-b2c2-beb0cb08c269",
   "metadata": {},
   "outputs": [
    {
     "data": {
      "text/plain": [
       "0"
      ]
     },
     "execution_count": 8,
     "metadata": {},
     "output_type": "execute_result"
    }
   ],
   "source": [
    "#Checking for Duplicates\n",
    "movie_details.duplicated().sum()"
   ]
  },
  {
   "cell_type": "code",
   "execution_count": 9,
   "id": "0cdfffb3-bb34-4bdd-b1a0-c306d56e1b43",
   "metadata": {},
   "outputs": [
    {
     "name": "stdout",
     "output_type": "stream",
     "text": [
      "<class 'pandas.core.frame.DataFrame'>\n",
      "Index: 249 entries, 0 to 249\n",
      "Data columns (total 18 columns):\n",
      " #   Column             Non-Null Count  Dtype  \n",
      "---  ------             --------------  -----  \n",
      " 0   rank               249 non-null    int64  \n",
      " 1   title              249 non-null    object \n",
      " 2   year               249 non-null    int64  \n",
      " 3   rating             249 non-null    object \n",
      " 4   duration           249 non-null    object \n",
      " 5   imdb_rating        249 non-null    float64\n",
      " 6   genre              249 non-null    object \n",
      " 7   url                249 non-null    object \n",
      " 8   movie_url          249 non-null    object \n",
      " 9   popularity_score   249 non-null    int64  \n",
      " 10  oscar_wins         249 non-null    int64  \n",
      " 11  oscar_nominations  249 non-null    int64  \n",
      " 12  star_1             249 non-null    object \n",
      " 13  star_1_link        249 non-null    object \n",
      " 14  star_2             249 non-null    object \n",
      " 15  star_2_link        249 non-null    object \n",
      " 16  star_3             249 non-null    object \n",
      " 17  star_3_link        249 non-null    object \n",
      "dtypes: float64(1), int64(5), object(12)\n",
      "memory usage: 37.0+ KB\n"
     ]
    }
   ],
   "source": [
    "movie_details.info()"
   ]
  },
  {
   "cell_type": "code",
   "execution_count": 10,
   "id": "94af4e88-4d0b-4836-ad13-2820552542c6",
   "metadata": {},
   "outputs": [
    {
     "data": {
      "text/plain": [
       "duration\n",
       "2h 10m    10\n",
       "2h 9m      7\n",
       "2h 12m     6\n",
       "2h 2m      6\n",
       "2h 17m     6\n",
       "          ..\n",
       "3h 27m     1\n",
       "1h 21m     1\n",
       "1h 8m      1\n",
       "1h 37m     1\n",
       "1h 20m     1\n",
       "Name: count, Length: 100, dtype: int64"
      ]
     },
     "execution_count": 10,
     "metadata": {},
     "output_type": "execute_result"
    }
   ],
   "source": [
    "movie_details['duration'].value_counts()"
   ]
  },
  {
   "cell_type": "code",
   "execution_count": 11,
   "id": "8883e9b8-1f3c-4c56-99f2-c8955d737409",
   "metadata": {},
   "outputs": [],
   "source": [
    "#convert duration from h mm format into minutes, then change datatype to int\n",
    "def convert_to_minutes(time_str):\n",
    "    if isinstance(time_str, int) and time_str == 0:  # Handle int 0\n",
    "        return 0 \n",
    "        \n",
    "    try:\n",
    "        hours = 0\n",
    "        minutes = 0\n",
    "        if 'h' in time_str:\n",
    "            hours = int(time_str.split('h')[0].strip())\n",
    "            if 'm' in time_str:\n",
    "                minutes = int(time_str.split('h')[1].strip('m '))\n",
    "        elif 'm' in time_str:\n",
    "            minutes = int(time_str.strip('m '))\n",
    "            \n",
    "        return hours * 60 + minutes\n",
    "        \n",
    "    except Exception as e:\n",
    "        print(f\"Error processing {time_str}: {e}\")\n",
    "        return 0 "
   ]
  },
  {
   "cell_type": "code",
   "execution_count": 12,
   "id": "d8c6a2b6-279b-47a1-ac70-8019d072f02b",
   "metadata": {},
   "outputs": [
    {
     "data": {
      "text/plain": [
       "0     142\n",
       "1     175\n",
       "2     152\n",
       "3     202\n",
       "4      96\n",
       "5     201\n",
       "6     195\n",
       "7     154\n",
       "8     178\n",
       "9     178\n",
       "10    142\n",
       "11    179\n",
       "12    139\n",
       "13    148\n",
       "14    124\n",
       "Name: duration, dtype: int64"
      ]
     },
     "metadata": {},
     "output_type": "display_data"
    }
   ],
   "source": [
    "movie_details['duration'] = movie_details['duration'].apply(convert_to_minutes)\n",
    "movie_details['duration'] = movie_details['duration'].astype(int)\n",
    "\n",
    "display(movie_details['duration'].head(15))"
   ]
  },
  {
   "cell_type": "code",
   "execution_count": 13,
   "id": "a28dfcb0-adf4-4ac6-a298-53ff9861aa81",
   "metadata": {},
   "outputs": [
    {
     "name": "stdout",
     "output_type": "stream",
     "text": [
      "<class 'pandas.core.frame.DataFrame'>\n",
      "Index: 249 entries, 0 to 249\n",
      "Data columns (total 18 columns):\n",
      " #   Column             Non-Null Count  Dtype  \n",
      "---  ------             --------------  -----  \n",
      " 0   rank               249 non-null    int64  \n",
      " 1   title              249 non-null    object \n",
      " 2   year               249 non-null    int64  \n",
      " 3   rating             249 non-null    object \n",
      " 4   duration           249 non-null    int64  \n",
      " 5   imdb_rating        249 non-null    float64\n",
      " 6   genre              249 non-null    object \n",
      " 7   url                249 non-null    object \n",
      " 8   movie_url          249 non-null    object \n",
      " 9   popularity_score   249 non-null    int64  \n",
      " 10  oscar_wins         249 non-null    int64  \n",
      " 11  oscar_nominations  249 non-null    int64  \n",
      " 12  star_1             249 non-null    object \n",
      " 13  star_1_link        249 non-null    object \n",
      " 14  star_2             249 non-null    object \n",
      " 15  star_2_link        249 non-null    object \n",
      " 16  star_3             249 non-null    object \n",
      " 17  star_3_link        249 non-null    object \n",
      "dtypes: float64(1), int64(6), object(11)\n",
      "memory usage: 37.0+ KB\n",
      "None\n"
     ]
    }
   ],
   "source": [
    "print(movie_details.info())"
   ]
  },
  {
   "cell_type": "code",
   "execution_count": 14,
   "id": "09a28d94-f5ce-42b9-a824-9232ce637789",
   "metadata": {},
   "outputs": [
    {
     "data": {
      "text/plain": [
       "duration\n",
       "130    10\n",
       "129     7\n",
       "132     6\n",
       "122     6\n",
       "137     6\n",
       "       ..\n",
       "207     1\n",
       "81      1\n",
       "68      1\n",
       "97      1\n",
       "80      1\n",
       "Name: count, Length: 100, dtype: int64"
      ]
     },
     "execution_count": 14,
     "metadata": {},
     "output_type": "execute_result"
    }
   ],
   "source": [
    "movie_details['duration'].value_counts()"
   ]
  },
  {
   "cell_type": "markdown",
   "id": "ea832633-c94c-41b3-b84b-a3a4125a8476",
   "metadata": {},
   "source": [
    "Data is now free of duplicates and missing values"
   ]
  },
  {
   "cell_type": "markdown",
   "id": "2840c8e6-7c13-420c-8d3e-8dfa42cea62f",
   "metadata": {},
   "source": [
    "<div style=\"border: 2px solid gold; padding: 10px; background-color: white;\">\n",
    "    <span style=\"color: black; font-size: 28px;\">Data Analysis:</span> \n",
    "</div>"
   ]
  },
  {
   "cell_type": "code",
   "execution_count": 15,
   "id": "03f42250-7e8b-4136-85ba-87781273b025",
   "metadata": {},
   "outputs": [
    {
     "name": "stdout",
     "output_type": "stream",
     "text": [
      "Oscar Nominations where oscar wins > 0:  [0]\n"
     ]
    }
   ],
   "source": [
    "#Where oscar wins are greater than 0\n",
    "nom_win = movie_details.query('oscar_wins > 0')['oscar_nominations'].reset_index()\n",
    "print('Oscar Nominations where oscar wins > 0: ', nom_win['oscar_nominations'].unique())"
   ]
  },
  {
   "cell_type": "code",
   "execution_count": 16,
   "id": "902e5e8b-6529-46ed-bf59-ce6a1ffdf7d5",
   "metadata": {},
   "outputs": [
    {
     "name": "stdout",
     "output_type": "stream",
     "text": [
      "Oscar wins where oscar nominations > 0:  [0]\n"
     ]
    }
   ],
   "source": [
    "#Where oscar nominations are greater than 0 \n",
    "win_nom = movie_details.query('oscar_nominations > 0')['oscar_wins'].reset_index()\n",
    "print('Oscar wins where oscar nominations > 0: ', win_nom['oscar_wins'].unique())"
   ]
  },
  {
   "cell_type": "markdown",
   "id": "4243962a-e634-4ee6-84f0-1aed18a5a23a",
   "metadata": {},
   "source": [
    "Where oscar_nominations are 0, oscar_wins contain some value above 0. Vice Versa is true, where oscar_wins are 0, oscar_nominations contains some value greater than 0. \n",
    "No movie shows both nominations AND wins, only one or the other."
   ]
  },
  {
   "cell_type": "code",
   "execution_count": 17,
   "id": "e306dad6-7280-4d2b-a24b-76b296eba79c",
   "metadata": {},
   "outputs": [
    {
     "name": "stdout",
     "output_type": "stream",
     "text": [
      "Minimum year: 1921\n",
      "Maximum Year: 2024\n",
      "year\n",
      "1921    1\n",
      "1924    1\n",
      "1925    1\n",
      "1926    1\n",
      "1927    1\n",
      "       ..\n",
      "2020    2\n",
      "2021    2\n",
      "2022    1\n",
      "2023    3\n",
      "2024    4\n",
      "Name: count, Length: 86, dtype: int64\n"
     ]
    }
   ],
   "source": [
    "print(\"Minimum year:\", movie_details['year'].min())\n",
    "print(\"Maximum Year:\", movie_details['year'].max())\n",
    "sorted_year_counts = movie_details['year'].value_counts().sort_index()\n",
    "print(sorted_year_counts)"
   ]
  },
  {
   "cell_type": "markdown",
   "id": "2a36f834-7140-41c6-9e53-a597afa9b586",
   "metadata": {},
   "source": [
    "<div style=\"border: 2px solid gold; padding: 10px; background-color: white;\">\n",
    "    <span style=\"color: black; font-size: 28px;\">\n",
    "        Question 1:</span>\n",
    "<p style=\"font-size: 16px; margin-top: 10px; margin-left:-20px\">  &nbsp;&nbsp;&nbsp;&nbsp;Is there a relationship between movie duration and release year?<p>\n",
    "</div>"
   ]
  },
  {
   "cell_type": "code",
   "execution_count": 18,
   "id": "b540acd1-00a7-4b2d-92d7-1e3ef30a1ca3",
   "metadata": {},
   "outputs": [],
   "source": [
    "filtered_data = movie_details[movie_details['year'] > 1900]\n",
    "average_duration = filtered_data.groupby('year')['duration'].mean().reset_index()"
   ]
  },
  {
   "cell_type": "code",
   "execution_count": 19,
   "id": "bb0b5d05-7b88-4c0b-9dd1-35f76a9b22d8",
   "metadata": {},
   "outputs": [
    {
     "data": {
      "image/png": "[encoded data removed]",
      "text/plain": [
       "<Figure size 1200x600 with 1 Axes>"
      ]
     },
     "metadata": {},
     "output_type": "display_data"
    }
   ],
   "source": [
    "plt.figure(figsize=(12, 6))\n",
    "\n",
    "plt.plot(average_duration['year'], average_duration['duration'], marker='o', color='yellow', linestyle='-', linewidth=2) \n",
    "\n",
    "plt.gcf().set_facecolor('black')  \n",
    "plt.gca().set_facecolor('black')   \n",
    "plt.title('Average Movie Duration by Release Year', fontsize=24, color='white') \n",
    "plt.xlabel('Release Year', fontsize=16, color='white')  \n",
    "plt.ylabel('Average Duration (minutes)', fontsize=16, color='white') \n",
    "plt.xticks(ticks=list(range(average_duration['year'].min(), average_duration['year'].max() + 1, 5)), rotation=45, color='white') \n",
    "plt.yticks(color='white') \n",
    "plt.grid(True, linestyle='--', color='white', alpha=0.7)  \n",
    "\n",
    "plt.tight_layout()\n",
    "\n",
    "plt.show()"
   ]
  },
  {
   "cell_type": "markdown",
   "id": "69b55d8a-86a0-4ec8-99b8-63c9e4cd13b6",
   "metadata": {},
   "source": [
    "- There is a slight upward trend going from 1921-1978.\n",
    "- 1924 had the shortest movie duration of all years.\n",
    "- 1978 had the longest movie duration of all years."
   ]
  },
  {
   "cell_type": "code",
   "execution_count": 20,
   "id": "deb73868-0727-4533-80a7-71c721e6152d",
   "metadata": {},
   "outputs": [],
   "source": [
    "# Add a new column for decade\n",
    "filtered_data = movie_details[movie_details['year'] > 1900].copy()\n",
    "filtered_data.loc[:, 'decade'] = (filtered_data['year'] // 10) * 10\n",
    "# Calculate average duration by decade\n",
    "average_duration_by_decade = filtered_data.groupby('decade')['duration'].mean()"
   ]
  },
  {
   "cell_type": "code",
   "execution_count": 21,
   "id": "9e8a6400-d69d-4add-b4ea-088390bf8949",
   "metadata": {},
   "outputs": [
    {
     "data": {
      "image/png": "[encoded data removed]",
      "text/plain": [
       "<Figure size 1000x600 with 1 Axes>"
      ]
     },
     "metadata": {},
     "output_type": "display_data"
    }
   ],
   "source": [
    "plt.figure(figsize=(10, 6))\n",
    "\n",
    "average_duration_by_decade.plot(kind='bar', color='gold')\n",
    "\\\n",
    "plt.gcf().set_facecolor('black')  # Set the figure background color to black\n",
    "plt.gca().set_facecolor('black')   # Set the axes background color to black\n",
    "\n",
    "plt.title('Average Movie Duration by Decade', fontsize=24, color='white')\n",
    "plt.xlabel('Decade', fontsize=16, color='white') \n",
    "plt.ylabel('Average Duration (minutes)', fontsize=14, color='white') \n",
    "plt.xticks(rotation=45, color='white') \n",
    "plt.yticks(color='white') \n",
    "plt.grid(axis='y', linestyle='--', color='white', alpha=0.7)\n",
    "plt.tight_layout()\n",
    "\n",
    "plt.tight_layout()\n",
    "\n",
    "plt.show()"
   ]
  },
  {
   "cell_type": "markdown",
   "id": "ae2315bd-2c7d-4663-af0c-c8ac8616b978",
   "metadata": {},
   "source": [
    "- The decade with the shortest duration (in minutes) is the 1920s.\n",
    "- The decade with the longest duration is the 60s."
   ]
  },
  {
   "cell_type": "markdown",
   "id": "811d3ef7-5fc5-4fdf-9a55-30ec79c5b924",
   "metadata": {},
   "source": [
    "<div style=\"border: 2px solid gold; padding: 10px; background-color: white;\">\n",
    "    <span style=\"color: black; font-size: 28px;\">\n",
    "        Question 2:</span>\n",
    "<p style=\"font-size: 16px; margin-top: 10px; margin-left:-20px\">  &nbsp;&nbsp;&nbsp;&nbsp;Is there a relationship between average popularity score and Oscar nominations or Oscar wins?<p>\n",
    "</div>"
   ]
  },
  {
   "cell_type": "code",
   "execution_count": 22,
   "id": "545cde01-0d1b-47ff-a45a-43e99f366259",
   "metadata": {},
   "outputs": [
    {
     "data": {
      "text/html": [
       "<div>\n",
       "<style scoped>\n",
       "    .dataframe tbody tr th:only-of-type {\n",
       "        vertical-align: middle;\n",
       "    }\n",
       "\n",
       "    .dataframe tbody tr th {\n",
       "        vertical-align: top;\n",
       "    }\n",
       "\n",
       "    .dataframe thead th {\n",
       "        text-align: right;\n",
       "    }\n",
       "</style>\n",
       "<table border=\"1\" class=\"dataframe\">\n",
       "  <thead>\n",
       "    <tr style=\"text-align: right;\">\n",
       "      <th></th>\n",
       "      <th>title</th>\n",
       "      <th>oscar_nominations</th>\n",
       "      <th>oscar_wins</th>\n",
       "      <th>popularity_score</th>\n",
       "    </tr>\n",
       "  </thead>\n",
       "  <tbody>\n",
       "    <tr>\n",
       "      <th>0</th>\n",
       "      <td>The Shawshank Redemption</td>\n",
       "      <td>7</td>\n",
       "      <td>0</td>\n",
       "      <td>54</td>\n",
       "    </tr>\n",
       "    <tr>\n",
       "      <th>1</th>\n",
       "      <td>The Godfather</td>\n",
       "      <td>0</td>\n",
       "      <td>3</td>\n",
       "      <td>79</td>\n",
       "    </tr>\n",
       "    <tr>\n",
       "      <th>2</th>\n",
       "      <td>The Dark Knight</td>\n",
       "      <td>0</td>\n",
       "      <td>2</td>\n",
       "      <td>102</td>\n",
       "    </tr>\n",
       "    <tr>\n",
       "      <th>3</th>\n",
       "      <td>The Godfather Part II</td>\n",
       "      <td>0</td>\n",
       "      <td>6</td>\n",
       "      <td>370</td>\n",
       "    </tr>\n",
       "    <tr>\n",
       "      <th>4</th>\n",
       "      <td>12 Angry Men</td>\n",
       "      <td>3</td>\n",
       "      <td>0</td>\n",
       "      <td>261</td>\n",
       "    </tr>\n",
       "  </tbody>\n",
       "</table>\n",
       "</div>"
      ],
      "text/plain": [
       "                      title  oscar_nominations  oscar_wins  popularity_score\n",
       "0  The Shawshank Redemption                  7           0                54\n",
       "1             The Godfather                  0           3                79\n",
       "2           The Dark Knight                  0           2               102\n",
       "3     The Godfather Part II                  0           6               370\n",
       "4              12 Angry Men                  3           0               261"
      ]
     },
     "execution_count": 22,
     "metadata": {},
     "output_type": "execute_result"
    }
   ],
   "source": [
    "#Creating a separate df that only contains the data needed for question 2\n",
    "df_oscars = movie_details[['title','oscar_nominations','oscar_wins','popularity_score']]\n",
    "df_oscars.head()"
   ]
  },
  {
   "cell_type": "code",
   "execution_count": 23,
   "id": "0cf0ba25-1ef0-4e2d-ac68-870d480ecd19",
   "metadata": {},
   "outputs": [
    {
     "name": "stdout",
     "output_type": "stream",
     "text": [
      "[0, 1, 2, 3, 4, 5, 6, 7, 8, 11]\n",
      "[0, 1, 2, 3, 4, 5, 6, 7, 8]\n"
     ]
    }
   ],
   "source": [
    "print(sorted(df_oscars['oscar_wins'].unique()))\n",
    "print(sorted(df_oscars['oscar_nominations'].unique()))"
   ]
  },
  {
   "cell_type": "code",
   "execution_count": 24,
   "id": "0e105851-2ebc-4765-b84a-2f04f4cf2f6d",
   "metadata": {},
   "outputs": [
    {
     "data": {
      "text/html": [
       "<div>\n",
       "<style scoped>\n",
       "    .dataframe tbody tr th:only-of-type {\n",
       "        vertical-align: middle;\n",
       "    }\n",
       "\n",
       "    .dataframe tbody tr th {\n",
       "        vertical-align: top;\n",
       "    }\n",
       "\n",
       "    .dataframe thead th {\n",
       "        text-align: right;\n",
       "    }\n",
       "</style>\n",
       "<table border=\"1\" class=\"dataframe\">\n",
       "  <thead>\n",
       "    <tr style=\"text-align: right;\">\n",
       "      <th></th>\n",
       "      <th>oscar_wins</th>\n",
       "      <th>popularity_score</th>\n",
       "    </tr>\n",
       "  </thead>\n",
       "  <tbody>\n",
       "    <tr>\n",
       "      <th>0</th>\n",
       "      <td>0</td>\n",
       "      <td>1122.937500</td>\n",
       "    </tr>\n",
       "    <tr>\n",
       "      <th>1</th>\n",
       "      <td>1</td>\n",
       "      <td>844.405405</td>\n",
       "    </tr>\n",
       "  </tbody>\n",
       "</table>\n",
       "</div>"
      ],
      "text/plain": [
       "   oscar_wins  popularity_score\n",
       "0           0       1122.937500\n",
       "1           1        844.405405"
      ]
     },
     "metadata": {},
     "output_type": "display_data"
    }
   ],
   "source": [
    "win_pop_avg = df_oscars.groupby('oscar_wins')['popularity_score'].mean().reset_index()\n",
    "display(win_pop_avg.head(2))"
   ]
  },
  {
   "cell_type": "code",
   "execution_count": 25,
   "id": "01fae728-d22b-41d1-9071-e8dfcb3be7a6",
   "metadata": {},
   "outputs": [
    {
     "data": {
      "text/html": [
       "<div>\n",
       "<style scoped>\n",
       "    .dataframe tbody tr th:only-of-type {\n",
       "        vertical-align: middle;\n",
       "    }\n",
       "\n",
       "    .dataframe tbody tr th {\n",
       "        vertical-align: top;\n",
       "    }\n",
       "\n",
       "    .dataframe thead th {\n",
       "        text-align: right;\n",
       "    }\n",
       "</style>\n",
       "<table border=\"1\" class=\"dataframe\">\n",
       "  <thead>\n",
       "    <tr style=\"text-align: right;\">\n",
       "      <th></th>\n",
       "      <th>oscar_nominations</th>\n",
       "      <th>popularity_score</th>\n",
       "    </tr>\n",
       "  </thead>\n",
       "  <tbody>\n",
       "    <tr>\n",
       "      <th>0</th>\n",
       "      <td>0</td>\n",
       "      <td>916.107143</td>\n",
       "    </tr>\n",
       "    <tr>\n",
       "      <th>1</th>\n",
       "      <td>1</td>\n",
       "      <td>1189.820513</td>\n",
       "    </tr>\n",
       "  </tbody>\n",
       "</table>\n",
       "</div>"
      ],
      "text/plain": [
       "   oscar_nominations  popularity_score\n",
       "0                  0        916.107143\n",
       "1                  1       1189.820513"
      ]
     },
     "metadata": {},
     "output_type": "display_data"
    }
   ],
   "source": [
    "nom_pop_avg = df_oscars.groupby('oscar_nominations')['popularity_score'].mean().reset_index()\n",
    "display(nom_pop_avg.head(2))"
   ]
  },
  {
   "cell_type": "code",
   "execution_count": 26,
   "id": "b3996354-1387-4ef1-bc66-04dad21068ac",
   "metadata": {},
   "outputs": [
    {
     "data": {
      "text/html": [
       "<div>\n",
       "<style scoped>\n",
       "    .dataframe tbody tr th:only-of-type {\n",
       "        vertical-align: middle;\n",
       "    }\n",
       "\n",
       "    .dataframe tbody tr th {\n",
       "        vertical-align: top;\n",
       "    }\n",
       "\n",
       "    .dataframe thead th {\n",
       "        text-align: right;\n",
       "    }\n",
       "</style>\n",
       "<table border=\"1\" class=\"dataframe\">\n",
       "  <thead>\n",
       "    <tr style=\"text-align: right;\">\n",
       "      <th></th>\n",
       "      <th>oscar_wins</th>\n",
       "      <th>total_movies</th>\n",
       "      <th>avg_pop_score</th>\n",
       "    </tr>\n",
       "  </thead>\n",
       "  <tbody>\n",
       "    <tr>\n",
       "      <th>1</th>\n",
       "      <td>1</td>\n",
       "      <td>37</td>\n",
       "      <td>844.405405</td>\n",
       "    </tr>\n",
       "    <tr>\n",
       "      <th>2</th>\n",
       "      <td>2</td>\n",
       "      <td>29</td>\n",
       "      <td>785.068966</td>\n",
       "    </tr>\n",
       "    <tr>\n",
       "      <th>3</th>\n",
       "      <td>3</td>\n",
       "      <td>15</td>\n",
       "      <td>608.400000</td>\n",
       "    </tr>\n",
       "    <tr>\n",
       "      <th>4</th>\n",
       "      <td>4</td>\n",
       "      <td>15</td>\n",
       "      <td>650.866667</td>\n",
       "    </tr>\n",
       "    <tr>\n",
       "      <th>5</th>\n",
       "      <td>5</td>\n",
       "      <td>9</td>\n",
       "      <td>513.888889</td>\n",
       "    </tr>\n",
       "    <tr>\n",
       "      <th>6</th>\n",
       "      <td>6</td>\n",
       "      <td>6</td>\n",
       "      <td>869.400000</td>\n",
       "    </tr>\n",
       "    <tr>\n",
       "      <th>7</th>\n",
       "      <td>7</td>\n",
       "      <td>5</td>\n",
       "      <td>1059.000000</td>\n",
       "    </tr>\n",
       "    <tr>\n",
       "      <th>8</th>\n",
       "      <td>8</td>\n",
       "      <td>3</td>\n",
       "      <td>1602.666667</td>\n",
       "    </tr>\n",
       "  </tbody>\n",
       "</table>\n",
       "</div>"
      ],
      "text/plain": [
       "   oscar_wins  total_movies  avg_pop_score\n",
       "1           1            37     844.405405\n",
       "2           2            29     785.068966\n",
       "3           3            15     608.400000\n",
       "4           4            15     650.866667\n",
       "5           5             9     513.888889\n",
       "6           6             6     869.400000\n",
       "7           7             5    1059.000000\n",
       "8           8             3    1602.666667"
      ]
     },
     "execution_count": 26,
     "metadata": {},
     "output_type": "execute_result"
    }
   ],
   "source": [
    "win_list = df_oscars['oscar_wins'].value_counts().to_list()\n",
    "win_pop_avg = df_oscars.groupby('oscar_wins')['popularity_score'].mean().to_list()\n",
    "unique_wins = sorted(df_oscars['oscar_wins'].unique())\n",
    "\n",
    "total_avg_win = pd.DataFrame({'oscar_wins':unique_wins, 'total_movies':win_list, 'avg_pop_score':win_pop_avg})\n",
    "total_avg_win = total_avg_win[(total_avg_win['total_movies'] >= 3)&(total_avg_win['oscar_wins'] > 0)]\n",
    "#Filtering out scores where the samples of movies were less than 3, and where oscar_wins = 0 as those represent movies that didn't win oscars\n",
    "total_avg_win"
   ]
  },
  {
   "cell_type": "code",
   "execution_count": 27,
   "id": "9f4bed35-b499-4695-8e65-bfcf7a089efb",
   "metadata": {},
   "outputs": [
    {
     "data": {
      "text/html": [
       "<div>\n",
       "<style scoped>\n",
       "    .dataframe tbody tr th:only-of-type {\n",
       "        vertical-align: middle;\n",
       "    }\n",
       "\n",
       "    .dataframe tbody tr th {\n",
       "        vertical-align: top;\n",
       "    }\n",
       "\n",
       "    .dataframe thead th {\n",
       "        text-align: right;\n",
       "    }\n",
       "</style>\n",
       "<table border=\"1\" class=\"dataframe\">\n",
       "  <thead>\n",
       "    <tr style=\"text-align: right;\">\n",
       "      <th></th>\n",
       "      <th>oscar_nominations</th>\n",
       "      <th>total_movies</th>\n",
       "      <th>avg_pop_score</th>\n",
       "    </tr>\n",
       "  </thead>\n",
       "  <tbody>\n",
       "    <tr>\n",
       "      <th>1</th>\n",
       "      <td>1</td>\n",
       "      <td>39</td>\n",
       "      <td>1189.820513</td>\n",
       "    </tr>\n",
       "    <tr>\n",
       "      <th>2</th>\n",
       "      <td>2</td>\n",
       "      <td>10</td>\n",
       "      <td>680.600000</td>\n",
       "    </tr>\n",
       "    <tr>\n",
       "      <th>3</th>\n",
       "      <td>3</td>\n",
       "      <td>9</td>\n",
       "      <td>809.666667</td>\n",
       "    </tr>\n",
       "    <tr>\n",
       "      <th>4</th>\n",
       "      <td>4</td>\n",
       "      <td>9</td>\n",
       "      <td>699.666667</td>\n",
       "    </tr>\n",
       "    <tr>\n",
       "      <th>5</th>\n",
       "      <td>5</td>\n",
       "      <td>7</td>\n",
       "      <td>911.285714</td>\n",
       "    </tr>\n",
       "    <tr>\n",
       "      <th>6</th>\n",
       "      <td>6</td>\n",
       "      <td>3</td>\n",
       "      <td>1778.666667</td>\n",
       "    </tr>\n",
       "    <tr>\n",
       "      <th>7</th>\n",
       "      <td>7</td>\n",
       "      <td>3</td>\n",
       "      <td>2083.666667</td>\n",
       "    </tr>\n",
       "  </tbody>\n",
       "</table>\n",
       "</div>"
      ],
      "text/plain": [
       "   oscar_nominations  total_movies  avg_pop_score\n",
       "1                  1            39    1189.820513\n",
       "2                  2            10     680.600000\n",
       "3                  3             9     809.666667\n",
       "4                  4             9     699.666667\n",
       "5                  5             7     911.285714\n",
       "6                  6             3    1778.666667\n",
       "7                  7             3    2083.666667"
      ]
     },
     "execution_count": 27,
     "metadata": {},
     "output_type": "execute_result"
    }
   ],
   "source": [
    "nom_list = df_oscars['oscar_nominations'].value_counts().to_list()\n",
    "nom_pop_avg = df_oscars.groupby('oscar_nominations')['popularity_score'].mean().to_list()\n",
    "unique_nom = sorted(df_oscars['oscar_nominations'].unique())\n",
    "total_avg_nom = pd.DataFrame({'oscar_nominations':unique_nom, 'total_movies':nom_list, 'avg_pop_score':nom_pop_avg})\n",
    "total_avg_nom = total_avg_nom[(total_avg_nom['total_movies'] >= 3) & (total_avg_nom['oscar_nominations'] > 0)]\n",
    "#Filtering out scores where the samples of movies were less than 3, and where oscar_nominations = 0 as those represent movies that won oscars\n",
    "total_avg_nom"
   ]
  },
  {
   "cell_type": "code",
   "execution_count": 28,
   "id": "4be49e7c-662a-4c8e-a9c5-2112ed1eff34",
   "metadata": {},
   "outputs": [
    {
     "data": {
      "text/plain": [
       "'Average Nominations:'"
      ]
     },
     "metadata": {},
     "output_type": "display_data"
    },
    {
     "data": {
      "text/html": [
       "<div>\n",
       "<style scoped>\n",
       "    .dataframe tbody tr th:only-of-type {\n",
       "        vertical-align: middle;\n",
       "    }\n",
       "\n",
       "    .dataframe tbody tr th {\n",
       "        vertical-align: top;\n",
       "    }\n",
       "\n",
       "    .dataframe thead th {\n",
       "        text-align: right;\n",
       "    }\n",
       "</style>\n",
       "<table border=\"1\" class=\"dataframe\">\n",
       "  <thead>\n",
       "    <tr style=\"text-align: right;\">\n",
       "      <th></th>\n",
       "      <th>index</th>\n",
       "      <th>oscar_nominations</th>\n",
       "      <th>avg_pop_score</th>\n",
       "    </tr>\n",
       "  </thead>\n",
       "  <tbody>\n",
       "    <tr>\n",
       "      <th>0</th>\n",
       "      <td>1</td>\n",
       "      <td>1</td>\n",
       "      <td>1189.820513</td>\n",
       "    </tr>\n",
       "    <tr>\n",
       "      <th>1</th>\n",
       "      <td>2</td>\n",
       "      <td>2</td>\n",
       "      <td>680.600000</td>\n",
       "    </tr>\n",
       "  </tbody>\n",
       "</table>\n",
       "</div>"
      ],
      "text/plain": [
       "   index  oscar_nominations  avg_pop_score\n",
       "0      1                  1    1189.820513\n",
       "1      2                  2     680.600000"
      ]
     },
     "metadata": {},
     "output_type": "display_data"
    },
    {
     "name": "stdout",
     "output_type": "stream",
     "text": [
      "\n"
     ]
    },
    {
     "data": {
      "text/plain": [
       "'Average Wins:'"
      ]
     },
     "metadata": {},
     "output_type": "display_data"
    },
    {
     "data": {
      "text/html": [
       "<div>\n",
       "<style scoped>\n",
       "    .dataframe tbody tr th:only-of-type {\n",
       "        vertical-align: middle;\n",
       "    }\n",
       "\n",
       "    .dataframe tbody tr th {\n",
       "        vertical-align: top;\n",
       "    }\n",
       "\n",
       "    .dataframe thead th {\n",
       "        text-align: right;\n",
       "    }\n",
       "</style>\n",
       "<table border=\"1\" class=\"dataframe\">\n",
       "  <thead>\n",
       "    <tr style=\"text-align: right;\">\n",
       "      <th></th>\n",
       "      <th>index</th>\n",
       "      <th>oscar_wins</th>\n",
       "      <th>avg_pop_score</th>\n",
       "    </tr>\n",
       "  </thead>\n",
       "  <tbody>\n",
       "    <tr>\n",
       "      <th>0</th>\n",
       "      <td>1</td>\n",
       "      <td>1</td>\n",
       "      <td>844.405405</td>\n",
       "    </tr>\n",
       "    <tr>\n",
       "      <th>1</th>\n",
       "      <td>2</td>\n",
       "      <td>2</td>\n",
       "      <td>785.068966</td>\n",
       "    </tr>\n",
       "  </tbody>\n",
       "</table>\n",
       "</div>"
      ],
      "text/plain": [
       "   index  oscar_wins  avg_pop_score\n",
       "0      1           1     844.405405\n",
       "1      2           2     785.068966"
      ]
     },
     "metadata": {},
     "output_type": "display_data"
    }
   ],
   "source": [
    "avg_nom = total_avg_nom.drop('total_movies', axis = 1).reset_index()\n",
    "avg_win = total_avg_win.drop('total_movies', axis = 1).reset_index()\n",
    "display('Average Nominations:', avg_nom.head(2))\n",
    "print()\n",
    "display('Average Wins:', avg_win.head(2))"
   ]
  },
  {
   "cell_type": "code",
   "execution_count": 29,
   "id": "b18865b8-b86d-410a-af2c-b93a8d8baf8a",
   "metadata": {},
   "outputs": [
    {
     "data": {
      "text/html": [
       "<div>\n",
       "<style scoped>\n",
       "    .dataframe tbody tr th:only-of-type {\n",
       "        vertical-align: middle;\n",
       "    }\n",
       "\n",
       "    .dataframe tbody tr th {\n",
       "        vertical-align: top;\n",
       "    }\n",
       "\n",
       "    .dataframe thead th {\n",
       "        text-align: right;\n",
       "    }\n",
       "</style>\n",
       "<table border=\"1\" class=\"dataframe\">\n",
       "  <thead>\n",
       "    <tr style=\"text-align: right;\">\n",
       "      <th></th>\n",
       "      <th>oscars</th>\n",
       "      <th>avg_nom_pop_score</th>\n",
       "      <th>avg_win_pop_score</th>\n",
       "    </tr>\n",
       "  </thead>\n",
       "  <tbody>\n",
       "    <tr>\n",
       "      <th>0</th>\n",
       "      <td>1</td>\n",
       "      <td>1189.820513</td>\n",
       "      <td>844.405405</td>\n",
       "    </tr>\n",
       "    <tr>\n",
       "      <th>1</th>\n",
       "      <td>2</td>\n",
       "      <td>680.600000</td>\n",
       "      <td>785.068966</td>\n",
       "    </tr>\n",
       "  </tbody>\n",
       "</table>\n",
       "</div>"
      ],
      "text/plain": [
       "   oscars  avg_nom_pop_score  avg_win_pop_score\n",
       "0       1        1189.820513         844.405405\n",
       "1       2         680.600000         785.068966"
      ]
     },
     "execution_count": 29,
     "metadata": {},
     "output_type": "execute_result"
    }
   ],
   "source": [
    "win_nom_avg = avg_nom.merge(avg_win, on = 'index', how = 'inner')\n",
    "win_nom_avg = win_nom_avg.drop(['index','oscar_wins'], axis = 1)\n",
    "win_nom_avg.head()\n",
    "win_nom_avg.columns = ['oscars', 'avg_nom_pop_score','avg_win_pop_score']\n",
    "win_nom_avg.head(2)"
   ]
  },
  {
   "cell_type": "code",
   "execution_count": 30,
   "id": "d65e0625-71a6-4c0f-b16e-88db7ad30b35",
   "metadata": {},
   "outputs": [
    {
     "data": {
      "text/html": [
       "<div>\n",
       "<style scoped>\n",
       "    .dataframe tbody tr th:only-of-type {\n",
       "        vertical-align: middle;\n",
       "    }\n",
       "\n",
       "    .dataframe tbody tr th {\n",
       "        vertical-align: top;\n",
       "    }\n",
       "\n",
       "    .dataframe thead th {\n",
       "        text-align: right;\n",
       "    }\n",
       "</style>\n",
       "<table border=\"1\" class=\"dataframe\">\n",
       "  <thead>\n",
       "    <tr style=\"text-align: right;\">\n",
       "      <th></th>\n",
       "      <th>oscars</th>\n",
       "      <th>Category</th>\n",
       "      <th>Average Popularity Score</th>\n",
       "    </tr>\n",
       "  </thead>\n",
       "  <tbody>\n",
       "    <tr>\n",
       "      <th>0</th>\n",
       "      <td>1</td>\n",
       "      <td>Oscar Nominations</td>\n",
       "      <td>1189.820513</td>\n",
       "    </tr>\n",
       "    <tr>\n",
       "      <th>1</th>\n",
       "      <td>2</td>\n",
       "      <td>Oscar Nominations</td>\n",
       "      <td>680.600000</td>\n",
       "    </tr>\n",
       "    <tr>\n",
       "      <th>2</th>\n",
       "      <td>3</td>\n",
       "      <td>Oscar Nominations</td>\n",
       "      <td>809.666667</td>\n",
       "    </tr>\n",
       "    <tr>\n",
       "      <th>3</th>\n",
       "      <td>4</td>\n",
       "      <td>Oscar Nominations</td>\n",
       "      <td>699.666667</td>\n",
       "    </tr>\n",
       "    <tr>\n",
       "      <th>4</th>\n",
       "      <td>5</td>\n",
       "      <td>Oscar Nominations</td>\n",
       "      <td>911.285714</td>\n",
       "    </tr>\n",
       "    <tr>\n",
       "      <th>5</th>\n",
       "      <td>6</td>\n",
       "      <td>Oscar Nominations</td>\n",
       "      <td>1778.666667</td>\n",
       "    </tr>\n",
       "    <tr>\n",
       "      <th>6</th>\n",
       "      <td>7</td>\n",
       "      <td>Oscar Nominations</td>\n",
       "      <td>2083.666667</td>\n",
       "    </tr>\n",
       "    <tr>\n",
       "      <th>7</th>\n",
       "      <td>1</td>\n",
       "      <td>Oscar Wins</td>\n",
       "      <td>844.405405</td>\n",
       "    </tr>\n",
       "    <tr>\n",
       "      <th>8</th>\n",
       "      <td>2</td>\n",
       "      <td>Oscar Wins</td>\n",
       "      <td>785.068966</td>\n",
       "    </tr>\n",
       "    <tr>\n",
       "      <th>9</th>\n",
       "      <td>3</td>\n",
       "      <td>Oscar Wins</td>\n",
       "      <td>608.400000</td>\n",
       "    </tr>\n",
       "    <tr>\n",
       "      <th>10</th>\n",
       "      <td>4</td>\n",
       "      <td>Oscar Wins</td>\n",
       "      <td>650.866667</td>\n",
       "    </tr>\n",
       "    <tr>\n",
       "      <th>11</th>\n",
       "      <td>5</td>\n",
       "      <td>Oscar Wins</td>\n",
       "      <td>513.888889</td>\n",
       "    </tr>\n",
       "    <tr>\n",
       "      <th>12</th>\n",
       "      <td>6</td>\n",
       "      <td>Oscar Wins</td>\n",
       "      <td>869.400000</td>\n",
       "    </tr>\n",
       "    <tr>\n",
       "      <th>13</th>\n",
       "      <td>7</td>\n",
       "      <td>Oscar Wins</td>\n",
       "      <td>1059.000000</td>\n",
       "    </tr>\n",
       "  </tbody>\n",
       "</table>\n",
       "</div>"
      ],
      "text/plain": [
       "    oscars           Category  Average Popularity Score\n",
       "0        1  Oscar Nominations               1189.820513\n",
       "1        2  Oscar Nominations                680.600000\n",
       "2        3  Oscar Nominations                809.666667\n",
       "3        4  Oscar Nominations                699.666667\n",
       "4        5  Oscar Nominations                911.285714\n",
       "5        6  Oscar Nominations               1778.666667\n",
       "6        7  Oscar Nominations               2083.666667\n",
       "7        1         Oscar Wins                844.405405\n",
       "8        2         Oscar Wins                785.068966\n",
       "9        3         Oscar Wins                608.400000\n",
       "10       4         Oscar Wins                650.866667\n",
       "11       5         Oscar Wins                513.888889\n",
       "12       6         Oscar Wins                869.400000\n",
       "13       7         Oscar Wins               1059.000000"
      ]
     },
     "metadata": {},
     "output_type": "display_data"
    }
   ],
   "source": [
    "win_nom_long = win_nom_avg.melt(id_vars = 'oscars', value_vars = ['avg_nom_pop_score', 'avg_win_pop_score'], \n",
    "                                var_name = 'Category', value_name = 'Average Popularity Score')\n",
    "win_nom_long['Category'] = win_nom_long['Category'].replace({'avg_nom_pop_score':'Oscar Nominations', 'avg_win_pop_score':'Oscar Wins'})\n",
    "display(win_nom_long)"
   ]
  },
  {
   "cell_type": "code",
   "execution_count": 42,
   "id": "074bb8e9-3042-44ee-a5c1-c4c12edb79ec",
   "metadata": {},
   "outputs": [
    {
     "data": {
      "application/vnd.plotly.v1+json": {
       "config": {
        "plotlyServerURL": "https://plot.ly"
       },
       "data": [
        {
         "hovertemplate": "Category=Oscar Nominations<br>oscars=%{x}<br>Average Popularity Score=%{y}<extra></extra>",
         "legendgroup": "Oscar Nominations",
         "line": {
          "color": "black",
          "dash": "solid"
         },
         "marker": {
          "size": 12,
          "symbol": "star"
         },
         "mode": "lines+markers",
         "name": "Oscar Nominations",
         "orientation": "v",
         "showlegend": true,
         "type": "scatter",
         "x": [
          1,
          2,
          3,
          4,
          5,
          6,
          7
         ],
         "xaxis": "x",
         "y": [
          1189.820512820513,
          680.6,
          809.6666666666666,
          699.6666666666666,
          911.2857142857143,
          1778.6666666666667,
          2083.6666666666665
         ],
         "yaxis": "y"
        },
        {
         "hovertemplate": "Category=Oscar Wins<br>oscars=%{x}<br>Average Popularity Score=%{y}<extra></extra>",
         "legendgroup": "Oscar Wins",
         "line": {
          "color": "darkgoldenrod",
          "dash": "solid"
         },
         "marker": {
          "size": 12,
          "symbol": "star"
         },
         "mode": "lines+markers",
         "name": "Oscar Wins",
         "orientation": "v",
         "showlegend": true,
         "type": "scatter",
         "x": [
          1,
          2,
          3,
          4,
          5,
          6,
          7
         ],
         "xaxis": "x",
         "y": [
          844.4054054054054,
          785.0689655172414,
          608.4,
          650.8666666666667,
          513.8888888888889,
          869.4,
          1059
         ],
         "yaxis": "y"
        }
       ],
       "layout": {
        "height": 400,
        "legend": {
         "title": {
          "text": "Category"
         },
         "tracegroupgap": 0
        },
        "margin": {
         "t": 60
        },
        "paper_bgcolor": "whitesmoke",
        "plot_bgcolor": "lightgray",
        "template": {
         "data": {
          "bar": [
           {
            "error_x": {
             "color": "#2a3f5f"
            },
            "error_y": {
             "color": "#2a3f5f"
            },
            "marker": {
             "line": {
              "color": "#E5ECF6",
              "width": 0.5
             },
             "pattern": {
              "fillmode": "overlay",
              "size": 10,
              "solidity": 0.2
             }
            },
            "type": "bar"
           }
          ],
          "barpolar": [
           {
            "marker": {
             "line": {
              "color": "#E5ECF6",
              "width": 0.5
             },
             "pattern": {
              "fillmode": "overlay",
              "size": 10,
              "solidity": 0.2
             }
            },
            "type": "barpolar"
           }
          ],
          "carpet": [
           {
            "aaxis": {
             "endlinecolor": "#2a3f5f",
             "gridcolor": "white",
             "linecolor": "white",
             "minorgridcolor": "white",
             "startlinecolor": "#2a3f5f"
            },
            "baxis": {
             "endlinecolor": "#2a3f5f",
             "gridcolor": "white",
             "linecolor": "white",
             "minorgridcolor": "white",
             "startlinecolor": "#2a3f5f"
            },
            "type": "carpet"
           }
          ],
          "choropleth": [
           {
            "colorbar": {
             "outlinewidth": 0,
             "ticks": ""
            },
            "type": "choropleth"
           }
          ],
          "contour": [
           {
            "colorbar": {
             "outlinewidth": 0,
             "ticks": ""
            },
            "colorscale": [
             [
              0,
              "#0d0887"
             ],
             [
              0.1111111111111111,
              "#46039f"
             ],
             [
              0.2222222222222222,
              "#7201a8"
             ],
             [
              0.3333333333333333,
              "#9c179e"
             ],
             [
              0.4444444444444444,
              "#bd3786"
             ],
             [
              0.5555555555555556,
              "#d8576b"
             ],
             [
              0.6666666666666666,
              "#ed7953"
             ],
             [
              0.7777777777777778,
              "#fb9f3a"
             ],
             [
              0.8888888888888888,
              "#fdca26"
             ],
             [
              1,
              "#f0f921"
             ]
            ],
            "type": "contour"
           }
          ],
          "contourcarpet": [
           {
            "colorbar": {
             "outlinewidth": 0,
             "ticks": ""
            },
            "type": "contourcarpet"
           }
          ],
          "heatmap": [
           {
            "colorbar": {
             "outlinewidth": 0,
             "ticks": ""
            },
            "colorscale": [
             [
              0,
              "#0d0887"
             ],
             [
              0.1111111111111111,
              "#46039f"
             ],
             [
              0.2222222222222222,
              "#7201a8"
             ],
             [
              0.3333333333333333,
              "#9c179e"
             ],
             [
              0.4444444444444444,
              "#bd3786"
             ],
             [
              0.5555555555555556,
              "#d8576b"
             ],
             [
              0.6666666666666666,
              "#ed7953"
             ],
             [
              0.7777777777777778,
              "#fb9f3a"
             ],
             [
              0.8888888888888888,
              "#fdca26"
             ],
             [
              1,
              "#f0f921"
             ]
            ],
            "type": "heatmap"
           }
          ],
          "heatmapgl": [
           {
            "colorbar": {
             "outlinewidth": 0,
             "ticks": ""
            },
            "colorscale": [
             [
              0,
              "#0d0887"
             ],
             [
              0.1111111111111111,
              "#46039f"
             ],
             [
              0.2222222222222222,
              "#7201a8"
             ],
             [
              0.3333333333333333,
              "#9c179e"
             ],
             [
              0.4444444444444444,
              "#bd3786"
             ],
             [
              0.5555555555555556,
              "#d8576b"
             ],
             [
              0.6666666666666666,
              "#ed7953"
             ],
             [
              0.7777777777777778,
              "#fb9f3a"
             ],
             [
              0.8888888888888888,
              "#fdca26"
             ],
             [
              1,
              "#f0f921"
             ]
            ],
            "type": "heatmapgl"
           }
          ],
          "histogram": [
           {
            "marker": {
             "pattern": {
              "fillmode": "overlay",
              "size": 10,
              "solidity": 0.2
             }
            },
            "type": "histogram"
           }
          ],
          "histogram2d": [
           {
            "colorbar": {
             "outlinewidth": 0,
             "ticks": ""
            },
            "colorscale": [
             [
              0,
              "#0d0887"
             ],
             [
              0.1111111111111111,
              "#46039f"
             ],
             [
              0.2222222222222222,
              "#7201a8"
             ],
             [
              0.3333333333333333,
              "#9c179e"
             ],
             [
              0.4444444444444444,
              "#bd3786"
             ],
             [
              0.5555555555555556,
              "#d8576b"
             ],
             [
              0.6666666666666666,
              "#ed7953"
             ],
             [
              0.7777777777777778,
              "#fb9f3a"
             ],
             [
              0.8888888888888888,
              "#fdca26"
             ],
             [
              1,
              "#f0f921"
             ]
            ],
            "type": "histogram2d"
           }
          ],
          "histogram2dcontour": [
           {
            "colorbar": {
             "outlinewidth": 0,
             "ticks": ""
            },
            "colorscale": [
             [
              0,
              "#0d0887"
             ],
             [
              0.1111111111111111,
              "#46039f"
             ],
             [
              0.2222222222222222,
              "#7201a8"
             ],
             [
              0.3333333333333333,
              "#9c179e"
             ],
             [
              0.4444444444444444,
              "#bd3786"
             ],
             [
              0.5555555555555556,
              "#d8576b"
             ],
             [
              0.6666666666666666,
              "#ed7953"
             ],
             [
              0.7777777777777778,
              "#fb9f3a"
             ],
             [
              0.8888888888888888,
              "#fdca26"
             ],
             [
              1,
              "#f0f921"
             ]
            ],
            "type": "histogram2dcontour"
           }
          ],
          "mesh3d": [
           {
            "colorbar": {
             "outlinewidth": 0,
             "ticks": ""
            },
            "type": "mesh3d"
           }
          ],
          "parcoords": [
           {
            "line": {
             "colorbar": {
              "outlinewidth": 0,
              "ticks": ""
             }
            },
            "type": "parcoords"
           }
          ],
          "pie": [
           {
            "automargin": true,
            "type": "pie"
           }
          ],
          "scatter": [
           {
            "fillpattern": {
             "fillmode": "overlay",
             "size": 10,
             "solidity": 0.2
            },
            "type": "scatter"
           }
          ],
          "scatter3d": [
           {
            "line": {
             "colorbar": {
              "outlinewidth": 0,
              "ticks": ""
             }
            },
            "marker": {
             "colorbar": {
              "outlinewidth": 0,
              "ticks": ""
             }
            },
            "type": "scatter3d"
           }
          ],
          "scattercarpet": [
           {
            "marker": {
             "colorbar": {
              "outlinewidth": 0,
              "ticks": ""
             }
            },
            "type": "scattercarpet"
           }
          ],
          "scattergeo": [
           {
            "marker": {
             "colorbar": {
              "outlinewidth": 0,
              "ticks": ""
             }
            },
            "type": "scattergeo"
           }
          ],
          "scattergl": [
           {
            "marker": {
             "colorbar": {
              "outlinewidth": 0,
              "ticks": ""
             }
            },
            "type": "scattergl"
           }
          ],
          "scattermapbox": [
           {
            "marker": {
             "colorbar": {
              "outlinewidth": 0,
              "ticks": ""
             }
            },
            "type": "scattermapbox"
           }
          ],
          "scatterpolar": [
           {
            "marker": {
             "colorbar": {
              "outlinewidth": 0,
              "ticks": ""
             }
            },
            "type": "scatterpolar"
           }
          ],
          "scatterpolargl": [
           {
            "marker": {
             "colorbar": {
              "outlinewidth": 0,
              "ticks": ""
             }
            },
            "type": "scatterpolargl"
           }
          ],
          "scatterternary": [
           {
            "marker": {
             "colorbar": {
              "outlinewidth": 0,
              "ticks": ""
             }
            },
            "type": "scatterternary"
           }
          ],
          "surface": [
           {
            "colorbar": {
             "outlinewidth": 0,
             "ticks": ""
            },
            "colorscale": [
             [
              0,
              "#0d0887"
             ],
             [
              0.1111111111111111,
              "#46039f"
             ],
             [
              0.2222222222222222,
              "#7201a8"
             ],
             [
              0.3333333333333333,
              "#9c179e"
             ],
             [
              0.4444444444444444,
              "#bd3786"
             ],
             [
              0.5555555555555556,
              "#d8576b"
             ],
             [
              0.6666666666666666,
              "#ed7953"
             ],
             [
              0.7777777777777778,
              "#fb9f3a"
             ],
             [
              0.8888888888888888,
              "#fdca26"
             ],
             [
              1,
              "#f0f921"
             ]
            ],
            "type": "surface"
           }
          ],
          "table": [
           {
            "cells": {
             "fill": {
              "color": "#EBF0F8"
             },
             "line": {
              "color": "white"
             }
            },
            "header": {
             "fill": {
              "color": "#C8D4E3"
             },
             "line": {
              "color": "white"
             }
            },
            "type": "table"
           }
          ]
         },
         "layout": {
          "annotationdefaults": {
           "arrowcolor": "#2a3f5f",
           "arrowhead": 0,
           "arrowwidth": 1
          },
          "autotypenumbers": "strict",
          "coloraxis": {
           "colorbar": {
            "outlinewidth": 0,
            "ticks": ""
           }
          },
          "colorscale": {
           "diverging": [
            [
             0,
             "#8e0152"
            ],
            [
             0.1,
             "#c51b7d"
            ],
            [
             0.2,
             "#de77ae"
            ],
            [
             0.3,
             "#f1b6da"
            ],
            [
             0.4,
             "#fde0ef"
            ],
            [
             0.5,
             "#f7f7f7"
            ],
            [
             0.6,
             "#e6f5d0"
            ],
            [
             0.7,
             "#b8e186"
            ],
            [
             0.8,
             "#7fbc41"
            ],
            [
             0.9,
             "#4d9221"
            ],
            [
             1,
             "#276419"
            ]
           ],
           "sequential": [
            [
             0,
             "#0d0887"
            ],
            [
             0.1111111111111111,
             "#46039f"
            ],
            [
             0.2222222222222222,
             "#7201a8"
            ],
            [
             0.3333333333333333,
             "#9c179e"
            ],
            [
             0.4444444444444444,
             "#bd3786"
            ],
            [
             0.5555555555555556,
             "#d8576b"
            ],
            [
             0.6666666666666666,
             "#ed7953"
            ],
            [
             0.7777777777777778,
             "#fb9f3a"
            ],
            [
             0.8888888888888888,
             "#fdca26"
            ],
            [
             1,
             "#f0f921"
            ]
           ],
           "sequentialminus": [
            [
             0,
             "#0d0887"
            ],
            [
             0.1111111111111111,
             "#46039f"
            ],
            [
             0.2222222222222222,
             "#7201a8"
            ],
            [
             0.3333333333333333,
             "#9c179e"
            ],
            [
             0.4444444444444444,
             "#bd3786"
            ],
            [
             0.5555555555555556,
             "#d8576b"
            ],
            [
             0.6666666666666666,
             "#ed7953"
            ],
            [
             0.7777777777777778,
             "#fb9f3a"
            ],
            [
             0.8888888888888888,
             "#fdca26"
            ],
            [
             1,
             "#f0f921"
            ]
           ]
          },
          "colorway": [
           "#636efa",
           "#EF553B",
           "#00cc96",
           "#ab63fa",
           "#FFA15A",
           "#19d3f3",
           "#FF6692",
           "#B6E880",
           "#FF97FF",
           "#FECB52"
          ],
          "font": {
           "color": "#2a3f5f"
          },
          "geo": {
           "bgcolor": "white",
           "lakecolor": "white",
           "landcolor": "#E5ECF6",
           "showlakes": true,
           "showland": true,
           "subunitcolor": "white"
          },
          "hoverlabel": {
           "align": "left"
          },
          "hovermode": "closest",
          "mapbox": {
           "style": "light"
          },
          "paper_bgcolor": "white",
          "plot_bgcolor": "#E5ECF6",
          "polar": {
           "angularaxis": {
            "gridcolor": "white",
            "linecolor": "white",
            "ticks": ""
           },
           "bgcolor": "#E5ECF6",
           "radialaxis": {
            "gridcolor": "white",
            "linecolor": "white",
            "ticks": ""
           }
          },
          "scene": {
           "xaxis": {
            "backgroundcolor": "#E5ECF6",
            "gridcolor": "white",
            "gridwidth": 2,
            "linecolor": "white",
            "showbackground": true,
            "ticks": "",
            "zerolinecolor": "white"
           },
           "yaxis": {
            "backgroundcolor": "#E5ECF6",
            "gridcolor": "white",
            "gridwidth": 2,
            "linecolor": "white",
            "showbackground": true,
            "ticks": "",
            "zerolinecolor": "white"
           },
           "zaxis": {
            "backgroundcolor": "#E5ECF6",
            "gridcolor": "white",
            "gridwidth": 2,
            "linecolor": "white",
            "showbackground": true,
            "ticks": "",
            "zerolinecolor": "white"
           }
          },
          "shapedefaults": {
           "line": {
            "color": "#2a3f5f"
           }
          },
          "ternary": {
           "aaxis": {
            "gridcolor": "white",
            "linecolor": "white",
            "ticks": ""
           },
           "baxis": {
            "gridcolor": "white",
            "linecolor": "white",
            "ticks": ""
           },
           "bgcolor": "#E5ECF6",
           "caxis": {
            "gridcolor": "white",
            "linecolor": "white",
            "ticks": ""
           }
          },
          "title": {
           "x": 0.05
          },
          "xaxis": {
           "automargin": true,
           "gridcolor": "white",
           "linecolor": "white",
           "ticks": "",
           "title": {
            "standoff": 15
           },
           "zerolinecolor": "white",
           "zerolinewidth": 2
          },
          "yaxis": {
           "automargin": true,
           "gridcolor": "white",
           "linecolor": "white",
           "ticks": "",
           "title": {
            "standoff": 15
           },
           "zerolinecolor": "white",
           "zerolinewidth": 2
          }
         }
        },
        "title": {
         "font": {
          "color": "black",
          "size": 16
         },
         "text": "<b>Average Movie Popularity Score for Oscar Nominations and Wins<b>",
         "x": 0.71
        },
        "width": 1100,
        "xaxis": {
         "anchor": "y",
         "domain": [
          0,
          1
         ],
         "title": {
          "font": {
           "color": "black",
           "size": 14
          },
          "text": "<b>Amount of Oscars<b>"
         }
        },
        "yaxis": {
         "anchor": "x",
         "domain": [
          0,
          1
         ],
         "title": {
          "font": {
           "color": "black",
           "size": 14
          },
          "text": "<b>Average Popularity Score<b>"
         }
        }
       }
      },
      "text/html": [
       "<div>                            <div id=\"dec415b5-e3cc-425a-b9ee-eac92e024deb\" class=\"plotly-graph-div\" style=\"height:400px; width:1100px;\"></div>            <script type=\"text/javascript\">                require([\"plotly\"], function(Plotly) {                    window.PLOTLYENV=window.PLOTLYENV || {};                                    if (document.getElementById(\"dec415b5-e3cc-425a-b9ee-eac92e024deb\")) {                    Plotly.newPlot(                        \"dec415b5-e3cc-425a-b9ee-eac92e024deb\",                        [{\"hovertemplate\":\"Category=Oscar Nominations\\u003cbr\\u003eoscars=%{x}\\u003cbr\\u003eAverage Popularity Score=%{y}\\u003cextra\\u003e\\u003c\\u002fextra\\u003e\",\"legendgroup\":\"Oscar Nominations\",\"line\":{\"color\":\"black\",\"dash\":\"solid\"},\"marker\":{\"symbol\":\"star\",\"size\":12},\"mode\":\"lines+markers\",\"name\":\"Oscar Nominations\",\"orientation\":\"v\",\"showlegend\":true,\"x\":[1,2,3,4,5,6,7],\"xaxis\":\"x\",\"y\":[1189.820512820513,680.6,809.6666666666666,699.6666666666666,911.2857142857143,1778.6666666666667,2083.6666666666665],\"yaxis\":\"y\",\"type\":\"scatter\"},{\"hovertemplate\":\"Category=Oscar Wins\\u003cbr\\u003eoscars=%{x}\\u003cbr\\u003eAverage Popularity Score=%{y}\\u003cextra\\u003e\\u003c\\u002fextra\\u003e\",\"legendgroup\":\"Oscar Wins\",\"line\":{\"color\":\"darkgoldenrod\",\"dash\":\"solid\"},\"marker\":{\"symbol\":\"star\",\"size\":12},\"mode\":\"lines+markers\",\"name\":\"Oscar Wins\",\"orientation\":\"v\",\"showlegend\":true,\"x\":[1,2,3,4,5,6,7],\"xaxis\":\"x\",\"y\":[844.4054054054054,785.0689655172414,608.4,650.8666666666667,513.8888888888889,869.4,1059.0],\"yaxis\":\"y\",\"type\":\"scatter\"}],                        {\"template\":{\"data\":{\"histogram2dcontour\":[{\"type\":\"histogram2dcontour\",\"colorbar\":{\"outlinewidth\":0,\"ticks\":\"\"},\"colorscale\":[[0.0,\"#0d0887\"],[0.1111111111111111,\"#46039f\"],[0.2222222222222222,\"#7201a8\"],[0.3333333333333333,\"#9c179e\"],[0.4444444444444444,\"#bd3786\"],[0.5555555555555556,\"#d8576b\"],[0.6666666666666666,\"#ed7953\"],[0.7777777777777778,\"#fb9f3a\"],[0.8888888888888888,\"#fdca26\"],[1.0,\"#f0f921\"]]}],\"choropleth\":[{\"type\":\"choropleth\",\"colorbar\":{\"outlinewidth\":0,\"ticks\":\"\"}}],\"histogram2d\":[{\"type\":\"histogram2d\",\"colorbar\":{\"outlinewidth\":0,\"ticks\":\"\"},\"colorscale\":[[0.0,\"#0d0887\"],[0.1111111111111111,\"#46039f\"],[0.2222222222222222,\"#7201a8\"],[0.3333333333333333,\"#9c179e\"],[0.4444444444444444,\"#bd3786\"],[0.5555555555555556,\"#d8576b\"],[0.6666666666666666,\"#ed7953\"],[0.7777777777777778,\"#fb9f3a\"],[0.8888888888888888,\"#fdca26\"],[1.0,\"#f0f921\"]]}],\"heatmap\":[{\"type\":\"heatmap\",\"colorbar\":{\"outlinewidth\":0,\"ticks\":\"\"},\"colorscale\":[[0.0,\"#0d0887\"],[0.1111111111111111,\"#46039f\"],[0.2222222222222222,\"#7201a8\"],[0.3333333333333333,\"#9c179e\"],[0.4444444444444444,\"#bd3786\"],[0.5555555555555556,\"#d8576b\"],[0.6666666666666666,\"#ed7953\"],[0.7777777777777778,\"#fb9f3a\"],[0.8888888888888888,\"#fdca26\"],[1.0,\"#f0f921\"]]}],\"heatmapgl\":[{\"type\":\"heatmapgl\",\"colorbar\":{\"outlinewidth\":0,\"ticks\":\"\"},\"colorscale\":[[0.0,\"#0d0887\"],[0.1111111111111111,\"#46039f\"],[0.2222222222222222,\"#7201a8\"],[0.3333333333333333,\"#9c179e\"],[0.4444444444444444,\"#bd3786\"],[0.5555555555555556,\"#d8576b\"],[0.6666666666666666,\"#ed7953\"],[0.7777777777777778,\"#fb9f3a\"],[0.8888888888888888,\"#fdca26\"],[1.0,\"#f0f921\"]]}],\"contourcarpet\":[{\"type\":\"contourcarpet\",\"colorbar\":{\"outlinewidth\":0,\"ticks\":\"\"}}],\"contour\":[{\"type\":\"contour\",\"colorbar\":{\"outlinewidth\":0,\"ticks\":\"\"},\"colorscale\":[[0.0,\"#0d0887\"],[0.1111111111111111,\"#46039f\"],[0.2222222222222222,\"#7201a8\"],[0.3333333333333333,\"#9c179e\"],[0.4444444444444444,\"#bd3786\"],[0.5555555555555556,\"#d8576b\"],[0.6666666666666666,\"#ed7953\"],[0.7777777777777778,\"#fb9f3a\"],[0.8888888888888888,\"#fdca26\"],[1.0,\"#f0f921\"]]}],\"surface\":[{\"type\":\"surface\",\"colorbar\":{\"outlinewidth\":0,\"ticks\":\"\"},\"colorscale\":[[0.0,\"#0d0887\"],[0.1111111111111111,\"#46039f\"],[0.2222222222222222,\"#7201a8\"],[0.3333333333333333,\"#9c179e\"],[0.4444444444444444,\"#bd3786\"],[0.5555555555555556,\"#d8576b\"],[0.6666666666666666,\"#ed7953\"],[0.7777777777777778,\"#fb9f3a\"],[0.8888888888888888,\"#fdca26\"],[1.0,\"#f0f921\"]]}],\"mesh3d\":[{\"type\":\"mesh3d\",\"colorbar\":{\"outlinewidth\":0,\"ticks\":\"\"}}],\"scatter\":[{\"fillpattern\":{\"fillmode\":\"overlay\",\"size\":10,\"solidity\":0.2},\"type\":\"scatter\"}],\"parcoords\":[{\"type\":\"parcoords\",\"line\":{\"colorbar\":{\"outlinewidth\":0,\"ticks\":\"\"}}}],\"scatterpolargl\":[{\"type\":\"scatterpolargl\",\"marker\":{\"colorbar\":{\"outlinewidth\":0,\"ticks\":\"\"}}}],\"bar\":[{\"error_x\":{\"color\":\"#2a3f5f\"},\"error_y\":{\"color\":\"#2a3f5f\"},\"marker\":{\"line\":{\"color\":\"#E5ECF6\",\"width\":0.5},\"pattern\":{\"fillmode\":\"overlay\",\"size\":10,\"solidity\":0.2}},\"type\":\"bar\"}],\"scattergeo\":[{\"type\":\"scattergeo\",\"marker\":{\"colorbar\":{\"outlinewidth\":0,\"ticks\":\"\"}}}],\"scatterpolar\":[{\"type\":\"scatterpolar\",\"marker\":{\"colorbar\":{\"outlinewidth\":0,\"ticks\":\"\"}}}],\"histogram\":[{\"marker\":{\"pattern\":{\"fillmode\":\"overlay\",\"size\":10,\"solidity\":0.2}},\"type\":\"histogram\"}],\"scattergl\":[{\"type\":\"scattergl\",\"marker\":{\"colorbar\":{\"outlinewidth\":0,\"ticks\":\"\"}}}],\"scatter3d\":[{\"type\":\"scatter3d\",\"line\":{\"colorbar\":{\"outlinewidth\":0,\"ticks\":\"\"}},\"marker\":{\"colorbar\":{\"outlinewidth\":0,\"ticks\":\"\"}}}],\"scattermapbox\":[{\"type\":\"scattermapbox\",\"marker\":{\"colorbar\":{\"outlinewidth\":0,\"ticks\":\"\"}}}],\"scatterternary\":[{\"type\":\"scatterternary\",\"marker\":{\"colorbar\":{\"outlinewidth\":0,\"ticks\":\"\"}}}],\"scattercarpet\":[{\"type\":\"scattercarpet\",\"marker\":{\"colorbar\":{\"outlinewidth\":0,\"ticks\":\"\"}}}],\"carpet\":[{\"aaxis\":{\"endlinecolor\":\"#2a3f5f\",\"gridcolor\":\"white\",\"linecolor\":\"white\",\"minorgridcolor\":\"white\",\"startlinecolor\":\"#2a3f5f\"},\"baxis\":{\"endlinecolor\":\"#2a3f5f\",\"gridcolor\":\"white\",\"linecolor\":\"white\",\"minorgridcolor\":\"white\",\"startlinecolor\":\"#2a3f5f\"},\"type\":\"carpet\"}],\"table\":[{\"cells\":{\"fill\":{\"color\":\"#EBF0F8\"},\"line\":{\"color\":\"white\"}},\"header\":{\"fill\":{\"color\":\"#C8D4E3\"},\"line\":{\"color\":\"white\"}},\"type\":\"table\"}],\"barpolar\":[{\"marker\":{\"line\":{\"color\":\"#E5ECF6\",\"width\":0.5},\"pattern\":{\"fillmode\":\"overlay\",\"size\":10,\"solidity\":0.2}},\"type\":\"barpolar\"}],\"pie\":[{\"automargin\":true,\"type\":\"pie\"}]},\"layout\":{\"autotypenumbers\":\"strict\",\"colorway\":[\"#636efa\",\"#EF553B\",\"#00cc96\",\"#ab63fa\",\"#FFA15A\",\"#19d3f3\",\"#FF6692\",\"#B6E880\",\"#FF97FF\",\"#FECB52\"],\"font\":{\"color\":\"#2a3f5f\"},\"hovermode\":\"closest\",\"hoverlabel\":{\"align\":\"left\"},\"paper_bgcolor\":\"white\",\"plot_bgcolor\":\"#E5ECF6\",\"polar\":{\"bgcolor\":\"#E5ECF6\",\"angularaxis\":{\"gridcolor\":\"white\",\"linecolor\":\"white\",\"ticks\":\"\"},\"radialaxis\":{\"gridcolor\":\"white\",\"linecolor\":\"white\",\"ticks\":\"\"}},\"ternary\":{\"bgcolor\":\"#E5ECF6\",\"aaxis\":{\"gridcolor\":\"white\",\"linecolor\":\"white\",\"ticks\":\"\"},\"baxis\":{\"gridcolor\":\"white\",\"linecolor\":\"white\",\"ticks\":\"\"},\"caxis\":{\"gridcolor\":\"white\",\"linecolor\":\"white\",\"ticks\":\"\"}},\"coloraxis\":{\"colorbar\":{\"outlinewidth\":0,\"ticks\":\"\"}},\"colorscale\":{\"sequential\":[[0.0,\"#0d0887\"],[0.1111111111111111,\"#46039f\"],[0.2222222222222222,\"#7201a8\"],[0.3333333333333333,\"#9c179e\"],[0.4444444444444444,\"#bd3786\"],[0.5555555555555556,\"#d8576b\"],[0.6666666666666666,\"#ed7953\"],[0.7777777777777778,\"#fb9f3a\"],[0.8888888888888888,\"#fdca26\"],[1.0,\"#f0f921\"]],\"sequentialminus\":[[0.0,\"#0d0887\"],[0.1111111111111111,\"#46039f\"],[0.2222222222222222,\"#7201a8\"],[0.3333333333333333,\"#9c179e\"],[0.4444444444444444,\"#bd3786\"],[0.5555555555555556,\"#d8576b\"],[0.6666666666666666,\"#ed7953\"],[0.7777777777777778,\"#fb9f3a\"],[0.8888888888888888,\"#fdca26\"],[1.0,\"#f0f921\"]],\"diverging\":[[0,\"#8e0152\"],[0.1,\"#c51b7d\"],[0.2,\"#de77ae\"],[0.3,\"#f1b6da\"],[0.4,\"#fde0ef\"],[0.5,\"#f7f7f7\"],[0.6,\"#e6f5d0\"],[0.7,\"#b8e186\"],[0.8,\"#7fbc41\"],[0.9,\"#4d9221\"],[1,\"#276419\"]]},\"xaxis\":{\"gridcolor\":\"white\",\"linecolor\":\"white\",\"ticks\":\"\",\"title\":{\"standoff\":15},\"zerolinecolor\":\"white\",\"automargin\":true,\"zerolinewidth\":2},\"yaxis\":{\"gridcolor\":\"white\",\"linecolor\":\"white\",\"ticks\":\"\",\"title\":{\"standoff\":15},\"zerolinecolor\":\"white\",\"automargin\":true,\"zerolinewidth\":2},\"scene\":{\"xaxis\":{\"backgroundcolor\":\"#E5ECF6\",\"gridcolor\":\"white\",\"linecolor\":\"white\",\"showbackground\":true,\"ticks\":\"\",\"zerolinecolor\":\"white\",\"gridwidth\":2},\"yaxis\":{\"backgroundcolor\":\"#E5ECF6\",\"gridcolor\":\"white\",\"linecolor\":\"white\",\"showbackground\":true,\"ticks\":\"\",\"zerolinecolor\":\"white\",\"gridwidth\":2},\"zaxis\":{\"backgroundcolor\":\"#E5ECF6\",\"gridcolor\":\"white\",\"linecolor\":\"white\",\"showbackground\":true,\"ticks\":\"\",\"zerolinecolor\":\"white\",\"gridwidth\":2}},\"shapedefaults\":{\"line\":{\"color\":\"#2a3f5f\"}},\"annotationdefaults\":{\"arrowcolor\":\"#2a3f5f\",\"arrowhead\":0,\"arrowwidth\":1},\"geo\":{\"bgcolor\":\"white\",\"landcolor\":\"#E5ECF6\",\"subunitcolor\":\"white\",\"showland\":true,\"showlakes\":true,\"lakecolor\":\"white\"},\"title\":{\"x\":0.05},\"mapbox\":{\"style\":\"light\"}}},\"xaxis\":{\"anchor\":\"y\",\"domain\":[0.0,1.0],\"title\":{\"text\":\"\\u003cb\\u003eAmount of Oscars\\u003cb\\u003e\",\"font\":{\"size\":14,\"color\":\"black\"}}},\"yaxis\":{\"anchor\":\"x\",\"domain\":[0.0,1.0],\"title\":{\"text\":\"\\u003cb\\u003eAverage Popularity Score\\u003cb\\u003e\",\"font\":{\"size\":14,\"color\":\"black\"}}},\"legend\":{\"title\":{\"text\":\"Category\"},\"tracegroupgap\":0},\"margin\":{\"t\":60},\"height\":400,\"width\":1100,\"title\":{\"font\":{\"size\":16,\"color\":\"black\"},\"text\":\"\\u003cb\\u003eAverage Movie Popularity Score for Oscar Nominations and Wins\\u003cb\\u003e\",\"x\":0.71},\"plot_bgcolor\":\"lightgray\",\"paper_bgcolor\":\"whitesmoke\"},                        {\"responsive\": true}                    ).then(function(){\n",
       "                            \n",
       "var gd = document.getElementById('dec415b5-e3cc-425a-b9ee-eac92e024deb');\n",
       "var x = new MutationObserver(function (mutations, observer) {{\n",
       "        var display = window.getComputedStyle(gd).display;\n",
       "        if (!display || display === 'none') {{\n",
       "            console.log([gd, 'removed!']);\n",
       "            Plotly.purge(gd);\n",
       "            observer.disconnect();\n",
       "        }}\n",
       "}});\n",
       "\n",
       "// Listen for the removal of the full notebook cells\n",
       "var notebookContainer = gd.closest('#notebook-container');\n",
       "if (notebookContainer) {{\n",
       "    x.observe(notebookContainer, {childList: true});\n",
       "}}\n",
       "\n",
       "// Listen for the clearing of the current output cell\n",
       "var outputEl = gd.closest('.output');\n",
       "if (outputEl) {{\n",
       "    x.observe(outputEl, {childList: true});\n",
       "}}\n",
       "\n",
       "                        })                };                });            </script>        </div>"
      ]
     },
     "metadata": {},
     "output_type": "display_data"
    }
   ],
   "source": [
    "final_fig = px.line(win_nom_long, x = 'oscars', y = 'Average Popularity Score', color = 'Category', color_discrete_sequence = ['black', 'darkgoldenrod'],\n",
    "                    width = 1100, height = 400, markers = True)\n",
    "final_fig.update_layout(title = {'text':'<b>Average Movie Popularity Score for Oscar Nominations and Wins<b>','font':{'size':16, 'color':'black'}})\n",
    "                                                                                                            \n",
    "final_fig.update_layout(xaxis_title = {'text':'<b>Amount of Oscars<b>','font':{'size':14,'color':'black'}}, title_x = 0.71)\n",
    "final_fig.update_layout(yaxis_title = {'text': '<b>Average Popularity Score<b>','font':{'size':14,'color':'black'}})\n",
    "final_fig.update_traces(marker = dict(symbol = 'star', size = 12))\n",
    "final_fig.update_layout(plot_bgcolor = 'lightgray', paper_bgcolor = 'whitesmoke')\n",
    "final_fig.show()"
   ]
  },
  {
   "cell_type": "markdown",
   "id": "3764346d-785f-4bd8-816b-9254ff2ac1f6",
   "metadata": {},
   "source": [
    "Average popularity scores decline for movies winning 1-5 Oscars before sharply increasing for those with more than 5. A similar trend occurs with nominations, where scores drop for 1-4 nominations and rise significantly for 5 or more."
   ]
  },
  {
   "cell_type": "markdown",
   "id": "1f55146a-962f-402e-ac97-c9a03542948d",
   "metadata": {},
   "source": [
    "<div style=\"border: 2px solid gold; padding: 10px; background-color: white;\">\n",
    "    <span style=\"color: black; font-size: 28px;\">\n",
    "        Question 3:</span>\n",
    "<p style=\"font-size: 16px; margin-top: 10px; margin-left:-20px\">  &nbsp;&nbsp;&nbsp;&nbsp;What is the distribution of rating class by genre?<p>\n",
    "</div>"
   ]
  },
  {
   "cell_type": "code",
   "execution_count": 32,
   "id": "8d5afdd1-e77f-4e5b-8454-51e8430faf54",
   "metadata": {},
   "outputs": [
    {
     "data": {
      "text/html": [
       "<div>\n",
       "<style scoped>\n",
       "    .dataframe tbody tr th:only-of-type {\n",
       "        vertical-align: middle;\n",
       "    }\n",
       "\n",
       "    .dataframe tbody tr th {\n",
       "        vertical-align: top;\n",
       "    }\n",
       "\n",
       "    .dataframe thead th {\n",
       "        text-align: right;\n",
       "    }\n",
       "</style>\n",
       "<table border=\"1\" class=\"dataframe\">\n",
       "  <thead>\n",
       "    <tr style=\"text-align: right;\">\n",
       "      <th></th>\n",
       "      <th>rank</th>\n",
       "      <th>title</th>\n",
       "      <th>year</th>\n",
       "      <th>rating</th>\n",
       "      <th>genre</th>\n",
       "    </tr>\n",
       "  </thead>\n",
       "  <tbody>\n",
       "    <tr>\n",
       "      <th>0</th>\n",
       "      <td>1</td>\n",
       "      <td>The Shawshank Redemption</td>\n",
       "      <td>1994</td>\n",
       "      <td>R</td>\n",
       "      <td>Drama</td>\n",
       "    </tr>\n",
       "    <tr>\n",
       "      <th>1</th>\n",
       "      <td>2</td>\n",
       "      <td>The Godfather</td>\n",
       "      <td>1972</td>\n",
       "      <td>R</td>\n",
       "      <td>Crime, Drama</td>\n",
       "    </tr>\n",
       "    <tr>\n",
       "      <th>2</th>\n",
       "      <td>3</td>\n",
       "      <td>The Dark Knight</td>\n",
       "      <td>2008</td>\n",
       "      <td>PG-13</td>\n",
       "      <td>Action, Crime, Drama</td>\n",
       "    </tr>\n",
       "    <tr>\n",
       "      <th>3</th>\n",
       "      <td>4</td>\n",
       "      <td>The Godfather Part II</td>\n",
       "      <td>1974</td>\n",
       "      <td>R</td>\n",
       "      <td>Crime, Drama</td>\n",
       "    </tr>\n",
       "    <tr>\n",
       "      <th>4</th>\n",
       "      <td>5</td>\n",
       "      <td>12 Angry Men</td>\n",
       "      <td>1957</td>\n",
       "      <td>Approved</td>\n",
       "      <td>Crime, Drama</td>\n",
       "    </tr>\n",
       "  </tbody>\n",
       "</table>\n",
       "</div>"
      ],
      "text/plain": [
       "   rank                     title  year    rating                 genre\n",
       "0     1  The Shawshank Redemption  1994         R                 Drama\n",
       "1     2             The Godfather  1972         R          Crime, Drama\n",
       "2     3           The Dark Knight  2008     PG-13  Action, Crime, Drama\n",
       "3     4     The Godfather Part II  1974         R          Crime, Drama\n",
       "4     5              12 Angry Men  1957  Approved          Crime, Drama"
      ]
     },
     "execution_count": 32,
     "metadata": {},
     "output_type": "execute_result"
    }
   ],
   "source": [
    "columns =['rank', 'title', 'year', 'rating', 'genre']\n",
    "movie_df = movie_details[columns]\n",
    "movie_df.head()"
   ]
  },
  {
   "cell_type": "code",
   "execution_count": 33,
   "id": "4f0721d2-95a4-4c64-b4dc-9950f2f6ca73",
   "metadata": {},
   "outputs": [],
   "source": [
    "df_split = movie_df['genre'].str.split(', ', expand=True).stack().reset_index(level=1, drop=True).rename('genre')\n",
    "# Combine with original DataFrame (optional, if you want to maintain other columns)\n",
    "rate_composition = movie_df.drop(columns=['genre']).join(df_split)"
   ]
  },
  {
   "cell_type": "code",
   "execution_count": 34,
   "id": "70b3300a-c103-4e52-8051-c6d851914ff2",
   "metadata": {},
   "outputs": [],
   "source": [
    "new_rate = rate_composition.groupby(['rating', 'genre']).count()\n",
    "new_rate = new_rate.drop(columns=['rank', 'year'])  # Drop specific columns\n",
    "new_rate = new_rate.rename(columns={'title': 'count'})  # Rename columns"
   ]
  },
  {
   "cell_type": "code",
   "execution_count": 35,
   "id": "5dc94662-5185-4b27-8fa9-e546af607af7",
   "metadata": {},
   "outputs": [
    {
     "data": {
      "text/html": [
       "<div>\n",
       "<style scoped>\n",
       "    .dataframe tbody tr th:only-of-type {\n",
       "        vertical-align: middle;\n",
       "    }\n",
       "\n",
       "    .dataframe tbody tr th {\n",
       "        vertical-align: top;\n",
       "    }\n",
       "\n",
       "    .dataframe thead th {\n",
       "        text-align: right;\n",
       "    }\n",
       "</style>\n",
       "<table border=\"1\" class=\"dataframe\">\n",
       "  <thead>\n",
       "    <tr style=\"text-align: right;\">\n",
       "      <th></th>\n",
       "      <th>rating</th>\n",
       "      <th>genre</th>\n",
       "      <th>count</th>\n",
       "    </tr>\n",
       "  </thead>\n",
       "  <tbody>\n",
       "    <tr>\n",
       "      <th>0</th>\n",
       "      <td>Approved</td>\n",
       "      <td>Adventure</td>\n",
       "      <td>4</td>\n",
       "    </tr>\n",
       "    <tr>\n",
       "      <th>1</th>\n",
       "      <td>Approved</td>\n",
       "      <td>Comedy</td>\n",
       "      <td>5</td>\n",
       "    </tr>\n",
       "    <tr>\n",
       "      <th>2</th>\n",
       "      <td>Approved</td>\n",
       "      <td>Crime</td>\n",
       "      <td>6</td>\n",
       "    </tr>\n",
       "    <tr>\n",
       "      <th>3</th>\n",
       "      <td>Approved</td>\n",
       "      <td>Drama</td>\n",
       "      <td>20</td>\n",
       "    </tr>\n",
       "    <tr>\n",
       "      <th>4</th>\n",
       "      <td>Approved</td>\n",
       "      <td>Film-Noir</td>\n",
       "      <td>3</td>\n",
       "    </tr>\n",
       "    <tr>\n",
       "      <th>5</th>\n",
       "      <td>Approved</td>\n",
       "      <td>Music</td>\n",
       "      <td>1</td>\n",
       "    </tr>\n",
       "    <tr>\n",
       "      <th>6</th>\n",
       "      <td>Approved</td>\n",
       "      <td>Mystery</td>\n",
       "      <td>4</td>\n",
       "    </tr>\n",
       "    <tr>\n",
       "      <th>7</th>\n",
       "      <td>Approved</td>\n",
       "      <td>Romance</td>\n",
       "      <td>5</td>\n",
       "    </tr>\n",
       "    <tr>\n",
       "      <th>8</th>\n",
       "      <td>Approved</td>\n",
       "      <td>Thriller</td>\n",
       "      <td>2</td>\n",
       "    </tr>\n",
       "    <tr>\n",
       "      <th>9</th>\n",
       "      <td>Approved</td>\n",
       "      <td>War</td>\n",
       "      <td>4</td>\n",
       "    </tr>\n",
       "    <tr>\n",
       "      <th>10</th>\n",
       "      <td>Approved</td>\n",
       "      <td>Western</td>\n",
       "      <td>1</td>\n",
       "    </tr>\n",
       "    <tr>\n",
       "      <th>11</th>\n",
       "      <td>G</td>\n",
       "      <td>Adventure</td>\n",
       "      <td>10</td>\n",
       "    </tr>\n",
       "    <tr>\n",
       "      <th>12</th>\n",
       "      <td>G</td>\n",
       "      <td>Animation</td>\n",
       "      <td>8</td>\n",
       "    </tr>\n",
       "    <tr>\n",
       "      <th>13</th>\n",
       "      <td>G</td>\n",
       "      <td>Biography</td>\n",
       "      <td>2</td>\n",
       "    </tr>\n",
       "    <tr>\n",
       "      <th>14</th>\n",
       "      <td>G</td>\n",
       "      <td>Comedy</td>\n",
       "      <td>10</td>\n",
       "    </tr>\n",
       "    <tr>\n",
       "      <th>15</th>\n",
       "      <td>G</td>\n",
       "      <td>Drama</td>\n",
       "      <td>8</td>\n",
       "    </tr>\n",
       "    <tr>\n",
       "      <th>16</th>\n",
       "      <td>G</td>\n",
       "      <td>Family</td>\n",
       "      <td>5</td>\n",
       "    </tr>\n",
       "    <tr>\n",
       "      <th>17</th>\n",
       "      <td>G</td>\n",
       "      <td>Fantasy</td>\n",
       "      <td>1</td>\n",
       "    </tr>\n",
       "    <tr>\n",
       "      <th>18</th>\n",
       "      <td>G</td>\n",
       "      <td>Musical</td>\n",
       "      <td>1</td>\n",
       "    </tr>\n",
       "    <tr>\n",
       "      <th>19</th>\n",
       "      <td>G</td>\n",
       "      <td>Romance</td>\n",
       "      <td>4</td>\n",
       "    </tr>\n",
       "    <tr>\n",
       "      <th>20</th>\n",
       "      <td>G</td>\n",
       "      <td>Sci-Fi</td>\n",
       "      <td>1</td>\n",
       "    </tr>\n",
       "    <tr>\n",
       "      <th>21</th>\n",
       "      <td>G</td>\n",
       "      <td>War</td>\n",
       "      <td>2</td>\n",
       "    </tr>\n",
       "  </tbody>\n",
       "</table>\n",
       "</div>"
      ],
      "text/plain": [
       "      rating      genre  count\n",
       "0   Approved  Adventure      4\n",
       "1   Approved     Comedy      5\n",
       "2   Approved      Crime      6\n",
       "3   Approved      Drama     20\n",
       "4   Approved  Film-Noir      3\n",
       "5   Approved      Music      1\n",
       "6   Approved    Mystery      4\n",
       "7   Approved    Romance      5\n",
       "8   Approved   Thriller      2\n",
       "9   Approved        War      4\n",
       "10  Approved    Western      1\n",
       "11         G  Adventure     10\n",
       "12         G  Animation      8\n",
       "13         G  Biography      2\n",
       "14         G     Comedy     10\n",
       "15         G      Drama      8\n",
       "16         G     Family      5\n",
       "17         G    Fantasy      1\n",
       "18         G    Musical      1\n",
       "19         G    Romance      4\n",
       "20         G     Sci-Fi      1\n",
       "21         G        War      2"
      ]
     },
     "execution_count": 35,
     "metadata": {},
     "output_type": "execute_result"
    }
   ],
   "source": [
    "new_rate = new_rate.reset_index()\n",
    "new_rate.head(22)"
   ]
  },
  {
   "cell_type": "code",
   "execution_count": 36,
   "id": "b28e95e7-44cd-48b9-805e-7d45f2243dbd",
   "metadata": {},
   "outputs": [
    {
     "data": {
      "text/plain": [
       "array(['Approved', 'G', 'NC-17', 'Not Rated', 'PG', 'PG-13', 'Passed',\n",
       "       'R'], dtype=object)"
      ]
     },
     "execution_count": 36,
     "metadata": {},
     "output_type": "execute_result"
    }
   ],
   "source": [
    "new_rate['rating'].unique()"
   ]
  },
  {
   "cell_type": "code",
   "execution_count": 37,
   "id": "cda94081-81c5-4433-869a-d875e573e5d8",
   "metadata": {},
   "outputs": [],
   "source": [
    "g_df = new_rate.loc[new_rate['rating'] == \"G\"]\n",
    "pg_df = new_rate.loc[new_rate['rating'] == \"PG\"]"
   ]
  },
  {
   "cell_type": "code",
   "execution_count": 38,
   "id": "f916b0de-8496-4d78-90e7-0d76607beec5",
   "metadata": {},
   "outputs": [
    {
     "data": {
      "text/html": [
       "<div>\n",
       "<style scoped>\n",
       "    .dataframe tbody tr th:only-of-type {\n",
       "        vertical-align: middle;\n",
       "    }\n",
       "\n",
       "    .dataframe tbody tr th {\n",
       "        vertical-align: top;\n",
       "    }\n",
       "\n",
       "    .dataframe thead th {\n",
       "        text-align: right;\n",
       "    }\n",
       "</style>\n",
       "<table border=\"1\" class=\"dataframe\">\n",
       "  <thead>\n",
       "    <tr style=\"text-align: right;\">\n",
       "      <th></th>\n",
       "      <th>rating</th>\n",
       "      <th>genre</th>\n",
       "      <th>count</th>\n",
       "    </tr>\n",
       "  </thead>\n",
       "  <tbody>\n",
       "    <tr>\n",
       "      <th>37</th>\n",
       "      <td>PG</td>\n",
       "      <td>Action</td>\n",
       "      <td>9</td>\n",
       "    </tr>\n",
       "    <tr>\n",
       "      <th>38</th>\n",
       "      <td>PG</td>\n",
       "      <td>Adventure</td>\n",
       "      <td>21</td>\n",
       "    </tr>\n",
       "    <tr>\n",
       "      <th>39</th>\n",
       "      <td>PG</td>\n",
       "      <td>Animation</td>\n",
       "      <td>12</td>\n",
       "    </tr>\n",
       "    <tr>\n",
       "      <th>40</th>\n",
       "      <td>PG</td>\n",
       "      <td>Biography</td>\n",
       "      <td>3</td>\n",
       "    </tr>\n",
       "    <tr>\n",
       "      <th>41</th>\n",
       "      <td>PG</td>\n",
       "      <td>Comedy</td>\n",
       "      <td>10</td>\n",
       "    </tr>\n",
       "    <tr>\n",
       "      <th>42</th>\n",
       "      <td>PG</td>\n",
       "      <td>Crime</td>\n",
       "      <td>2</td>\n",
       "    </tr>\n",
       "    <tr>\n",
       "      <th>43</th>\n",
       "      <td>PG</td>\n",
       "      <td>Drama</td>\n",
       "      <td>20</td>\n",
       "    </tr>\n",
       "    <tr>\n",
       "      <th>44</th>\n",
       "      <td>PG</td>\n",
       "      <td>Family</td>\n",
       "      <td>5</td>\n",
       "    </tr>\n",
       "    <tr>\n",
       "      <th>45</th>\n",
       "      <td>PG</td>\n",
       "      <td>Fantasy</td>\n",
       "      <td>6</td>\n",
       "    </tr>\n",
       "    <tr>\n",
       "      <th>46</th>\n",
       "      <td>PG</td>\n",
       "      <td>Horror</td>\n",
       "      <td>1</td>\n",
       "    </tr>\n",
       "    <tr>\n",
       "      <th>47</th>\n",
       "      <td>PG</td>\n",
       "      <td>Music</td>\n",
       "      <td>1</td>\n",
       "    </tr>\n",
       "    <tr>\n",
       "      <th>48</th>\n",
       "      <td>PG</td>\n",
       "      <td>Mystery</td>\n",
       "      <td>3</td>\n",
       "    </tr>\n",
       "    <tr>\n",
       "      <th>49</th>\n",
       "      <td>PG</td>\n",
       "      <td>Romance</td>\n",
       "      <td>3</td>\n",
       "    </tr>\n",
       "    <tr>\n",
       "      <th>50</th>\n",
       "      <td>PG</td>\n",
       "      <td>Sci-Fi</td>\n",
       "      <td>2</td>\n",
       "    </tr>\n",
       "    <tr>\n",
       "      <th>51</th>\n",
       "      <td>PG</td>\n",
       "      <td>Sport</td>\n",
       "      <td>2</td>\n",
       "    </tr>\n",
       "    <tr>\n",
       "      <th>52</th>\n",
       "      <td>PG</td>\n",
       "      <td>Thriller</td>\n",
       "      <td>3</td>\n",
       "    </tr>\n",
       "    <tr>\n",
       "      <th>53</th>\n",
       "      <td>PG</td>\n",
       "      <td>War</td>\n",
       "      <td>4</td>\n",
       "    </tr>\n",
       "  </tbody>\n",
       "</table>\n",
       "</div>"
      ],
      "text/plain": [
       "   rating      genre  count\n",
       "37     PG     Action      9\n",
       "38     PG  Adventure     21\n",
       "39     PG  Animation     12\n",
       "40     PG  Biography      3\n",
       "41     PG     Comedy     10\n",
       "42     PG      Crime      2\n",
       "43     PG      Drama     20\n",
       "44     PG     Family      5\n",
       "45     PG    Fantasy      6\n",
       "46     PG     Horror      1\n",
       "47     PG      Music      1\n",
       "48     PG    Mystery      3\n",
       "49     PG    Romance      3\n",
       "50     PG     Sci-Fi      2\n",
       "51     PG      Sport      2\n",
       "52     PG   Thriller      3\n",
       "53     PG        War      4"
      ]
     },
     "metadata": {},
     "output_type": "display_data"
    },
    {
     "name": "stdout",
     "output_type": "stream",
     "text": [
      "           count\n",
      "count  17.000000\n",
      "mean    6.294118\n",
      "std     6.222587\n",
      "min     1.000000\n",
      "25%     2.000000\n",
      "50%     3.000000\n",
      "75%     9.000000\n",
      "max    21.000000\n",
      "Mode: 0    3\n",
      "Name: count, dtype: int64\n"
     ]
    }
   ],
   "source": [
    "display(pg_df)\n",
    "print(pg_df.describe())\n",
    "print('Mode:', pg_df['count'].mode())"
   ]
  },
  {
   "cell_type": "code",
   "execution_count": 39,
   "id": "5014684e-7831-45e4-b11a-9d12ad587c91",
   "metadata": {},
   "outputs": [
    {
     "data": {
      "application/vnd.plotly.v1+json": {
       "config": {
        "plotlyServerURL": "https://plot.ly"
       },
       "data": [
        {
         "customdata": [
          [
           "Action"
          ],
          [
           "Adventure"
          ],
          [
           "Animation"
          ],
          [
           "Biography"
          ],
          [
           "Comedy"
          ],
          [
           "Crime"
          ],
          [
           "Drama"
          ],
          [
           "Family"
          ],
          [
           "Fantasy"
          ],
          [
           "Horror"
          ],
          [
           "Music"
          ],
          [
           "Mystery"
          ],
          [
           "Romance"
          ],
          [
           "Sci-Fi"
          ],
          [
           "Sport"
          ],
          [
           "Thriller"
          ],
          [
           "War"
          ]
         ],
         "domain": {
          "x": [
           0,
           1
          ],
          "y": [
           0,
           1
          ]
         },
         "hovertemplate": "genre=%{customdata[0]}<br>count=%{value}<extra></extra>",
         "labels": [
          "Action",
          "Adventure",
          "Animation",
          "Biography",
          "Comedy",
          "Crime",
          "Drama",
          "Family",
          "Fantasy",
          "Horror",
          "Music",
          "Mystery",
          "Romance",
          "Sci-Fi",
          "Sport",
          "Thriller",
          "War"
         ],
         "legendgroup": "",
         "marker": {
          "colors": [
           "#636efa",
           "#EF553B",
           "#00cc96",
           "#ab63fa",
           "#FFA15A",
           "#19d3f3",
           "#FF6692",
           "#B6E880",
           "#FF97FF",
           "#FECB52",
           "#636efa",
           "#EF553B",
           "#00cc96",
           "#ab63fa",
           "#FFA15A",
           "#19d3f3",
           "#FF6692"
          ],
          "line": {
           "color": "black",
           "width": 1
          }
         },
         "name": "",
         "showlegend": true,
         "type": "pie",
         "values": [
          9,
          21,
          12,
          3,
          10,
          2,
          20,
          5,
          6,
          1,
          1,
          3,
          3,
          2,
          2,
          3,
          4
         ]
        }
       ],
       "layout": {
        "font": {
         "color": "white"
        },
        "legend": {
         "tracegroupgap": 0
        },
        "margin": {
         "t": 60
        },
        "paper_bgcolor": "black",
        "plot_bgcolor": "black",
        "template": {
         "data": {
          "bar": [
           {
            "error_x": {
             "color": "#2a3f5f"
            },
            "error_y": {
             "color": "#2a3f5f"
            },
            "marker": {
             "line": {
              "color": "#E5ECF6",
              "width": 0.5
             },
             "pattern": {
              "fillmode": "overlay",
              "size": 10,
              "solidity": 0.2
             }
            },
            "type": "bar"
           }
          ],
          "barpolar": [
           {
            "marker": {
             "line": {
              "color": "#E5ECF6",
              "width": 0.5
             },
             "pattern": {
              "fillmode": "overlay",
              "size": 10,
              "solidity": 0.2
             }
            },
            "type": "barpolar"
           }
          ],
          "carpet": [
           {
            "aaxis": {
             "endlinecolor": "#2a3f5f",
             "gridcolor": "white",
             "linecolor": "white",
             "minorgridcolor": "white",
             "startlinecolor": "#2a3f5f"
            },
            "baxis": {
             "endlinecolor": "#2a3f5f",
             "gridcolor": "white",
             "linecolor": "white",
             "minorgridcolor": "white",
             "startlinecolor": "#2a3f5f"
            },
            "type": "carpet"
           }
          ],
          "choropleth": [
           {
            "colorbar": {
             "outlinewidth": 0,
             "ticks": ""
            },
            "type": "choropleth"
           }
          ],
          "contour": [
           {
            "colorbar": {
             "outlinewidth": 0,
             "ticks": ""
            },
            "colorscale": [
             [
              0,
              "#0d0887"
             ],
             [
              0.1111111111111111,
              "#46039f"
             ],
             [
              0.2222222222222222,
              "#7201a8"
             ],
             [
              0.3333333333333333,
              "#9c179e"
             ],
             [
              0.4444444444444444,
              "#bd3786"
             ],
             [
              0.5555555555555556,
              "#d8576b"
             ],
             [
              0.6666666666666666,
              "#ed7953"
             ],
             [
              0.7777777777777778,
              "#fb9f3a"
             ],
             [
              0.8888888888888888,
              "#fdca26"
             ],
             [
              1,
              "#f0f921"
             ]
            ],
            "type": "contour"
           }
          ],
          "contourcarpet": [
           {
            "colorbar": {
             "outlinewidth": 0,
             "ticks": ""
            },
            "type": "contourcarpet"
           }
          ],
          "heatmap": [
           {
            "colorbar": {
             "outlinewidth": 0,
             "ticks": ""
            },
            "colorscale": [
             [
              0,
              "#0d0887"
             ],
             [
              0.1111111111111111,
              "#46039f"
             ],
             [
              0.2222222222222222,
              "#7201a8"
             ],
             [
              0.3333333333333333,
              "#9c179e"
             ],
             [
              0.4444444444444444,
              "#bd3786"
             ],
             [
              0.5555555555555556,
              "#d8576b"
             ],
             [
              0.6666666666666666,
              "#ed7953"
             ],
             [
              0.7777777777777778,
              "#fb9f3a"
             ],
             [
              0.8888888888888888,
              "#fdca26"
             ],
             [
              1,
              "#f0f921"
             ]
            ],
            "type": "heatmap"
           }
          ],
          "heatmapgl": [
           {
            "colorbar": {
             "outlinewidth": 0,
             "ticks": ""
            },
            "colorscale": [
             [
              0,
              "#0d0887"
             ],
             [
              0.1111111111111111,
              "#46039f"
             ],
             [
              0.2222222222222222,
              "#7201a8"
             ],
             [
              0.3333333333333333,
              "#9c179e"
             ],
             [
              0.4444444444444444,
              "#bd3786"
             ],
             [
              0.5555555555555556,
              "#d8576b"
             ],
             [
              0.6666666666666666,
              "#ed7953"
             ],
             [
              0.7777777777777778,
              "#fb9f3a"
             ],
             [
              0.8888888888888888,
              "#fdca26"
             ],
             [
              1,
              "#f0f921"
             ]
            ],
            "type": "heatmapgl"
           }
          ],
          "histogram": [
           {
            "marker": {
             "pattern": {
              "fillmode": "overlay",
              "size": 10,
              "solidity": 0.2
             }
            },
            "type": "histogram"
           }
          ],
          "histogram2d": [
           {
            "colorbar": {
             "outlinewidth": 0,
             "ticks": ""
            },
            "colorscale": [
             [
              0,
              "#0d0887"
             ],
             [
              0.1111111111111111,
              "#46039f"
             ],
             [
              0.2222222222222222,
              "#7201a8"
             ],
             [
              0.3333333333333333,
              "#9c179e"
             ],
             [
              0.4444444444444444,
              "#bd3786"
             ],
             [
              0.5555555555555556,
              "#d8576b"
             ],
             [
              0.6666666666666666,
              "#ed7953"
             ],
             [
              0.7777777777777778,
              "#fb9f3a"
             ],
             [
              0.8888888888888888,
              "#fdca26"
             ],
             [
              1,
              "#f0f921"
             ]
            ],
            "type": "histogram2d"
           }
          ],
          "histogram2dcontour": [
           {
            "colorbar": {
             "outlinewidth": 0,
             "ticks": ""
            },
            "colorscale": [
             [
              0,
              "#0d0887"
             ],
             [
              0.1111111111111111,
              "#46039f"
             ],
             [
              0.2222222222222222,
              "#7201a8"
             ],
             [
              0.3333333333333333,
              "#9c179e"
             ],
             [
              0.4444444444444444,
              "#bd3786"
             ],
             [
              0.5555555555555556,
              "#d8576b"
             ],
             [
              0.6666666666666666,
              "#ed7953"
             ],
             [
              0.7777777777777778,
              "#fb9f3a"
             ],
             [
              0.8888888888888888,
              "#fdca26"
             ],
             [
              1,
              "#f0f921"
             ]
            ],
            "type": "histogram2dcontour"
           }
          ],
          "mesh3d": [
           {
            "colorbar": {
             "outlinewidth": 0,
             "ticks": ""
            },
            "type": "mesh3d"
           }
          ],
          "parcoords": [
           {
            "line": {
             "colorbar": {
              "outlinewidth": 0,
              "ticks": ""
             }
            },
            "type": "parcoords"
           }
          ],
          "pie": [
           {
            "automargin": true,
            "type": "pie"
           }
          ],
          "scatter": [
           {
            "fillpattern": {
             "fillmode": "overlay",
             "size": 10,
             "solidity": 0.2
            },
            "type": "scatter"
           }
          ],
          "scatter3d": [
           {
            "line": {
             "colorbar": {
              "outlinewidth": 0,
              "ticks": ""
             }
            },
            "marker": {
             "colorbar": {
              "outlinewidth": 0,
              "ticks": ""
             }
            },
            "type": "scatter3d"
           }
          ],
          "scattercarpet": [
           {
            "marker": {
             "colorbar": {
              "outlinewidth": 0,
              "ticks": ""
             }
            },
            "type": "scattercarpet"
           }
          ],
          "scattergeo": [
           {
            "marker": {
             "colorbar": {
              "outlinewidth": 0,
              "ticks": ""
             }
            },
            "type": "scattergeo"
           }
          ],
          "scattergl": [
           {
            "marker": {
             "colorbar": {
              "outlinewidth": 0,
              "ticks": ""
             }
            },
            "type": "scattergl"
           }
          ],
          "scattermapbox": [
           {
            "marker": {
             "colorbar": {
              "outlinewidth": 0,
              "ticks": ""
             }
            },
            "type": "scattermapbox"
           }
          ],
          "scatterpolar": [
           {
            "marker": {
             "colorbar": {
              "outlinewidth": 0,
              "ticks": ""
             }
            },
            "type": "scatterpolar"
           }
          ],
          "scatterpolargl": [
           {
            "marker": {
             "colorbar": {
              "outlinewidth": 0,
              "ticks": ""
             }
            },
            "type": "scatterpolargl"
           }
          ],
          "scatterternary": [
           {
            "marker": {
             "colorbar": {
              "outlinewidth": 0,
              "ticks": ""
             }
            },
            "type": "scatterternary"
           }
          ],
          "surface": [
           {
            "colorbar": {
             "outlinewidth": 0,
             "ticks": ""
            },
            "colorscale": [
             [
              0,
              "#0d0887"
             ],
             [
              0.1111111111111111,
              "#46039f"
             ],
             [
              0.2222222222222222,
              "#7201a8"
             ],
             [
              0.3333333333333333,
              "#9c179e"
             ],
             [
              0.4444444444444444,
              "#bd3786"
             ],
             [
              0.5555555555555556,
              "#d8576b"
             ],
             [
              0.6666666666666666,
              "#ed7953"
             ],
             [
              0.7777777777777778,
              "#fb9f3a"
             ],
             [
              0.8888888888888888,
              "#fdca26"
             ],
             [
              1,
              "#f0f921"
             ]
            ],
            "type": "surface"
           }
          ],
          "table": [
           {
            "cells": {
             "fill": {
              "color": "#EBF0F8"
             },
             "line": {
              "color": "white"
             }
            },
            "header": {
             "fill": {
              "color": "#C8D4E3"
             },
             "line": {
              "color": "white"
             }
            },
            "type": "table"
           }
          ]
         },
         "layout": {
          "annotationdefaults": {
           "arrowcolor": "#2a3f5f",
           "arrowhead": 0,
           "arrowwidth": 1
          },
          "autotypenumbers": "strict",
          "coloraxis": {
           "colorbar": {
            "outlinewidth": 0,
            "ticks": ""
           }
          },
          "colorscale": {
           "diverging": [
            [
             0,
             "#8e0152"
            ],
            [
             0.1,
             "#c51b7d"
            ],
            [
             0.2,
             "#de77ae"
            ],
            [
             0.3,
             "#f1b6da"
            ],
            [
             0.4,
             "#fde0ef"
            ],
            [
             0.5,
             "#f7f7f7"
            ],
            [
             0.6,
             "#e6f5d0"
            ],
            [
             0.7,
             "#b8e186"
            ],
            [
             0.8,
             "#7fbc41"
            ],
            [
             0.9,
             "#4d9221"
            ],
            [
             1,
             "#276419"
            ]
           ],
           "sequential": [
            [
             0,
             "#0d0887"
            ],
            [
             0.1111111111111111,
             "#46039f"
            ],
            [
             0.2222222222222222,
             "#7201a8"
            ],
            [
             0.3333333333333333,
             "#9c179e"
            ],
            [
             0.4444444444444444,
             "#bd3786"
            ],
            [
             0.5555555555555556,
             "#d8576b"
            ],
            [
             0.6666666666666666,
             "#ed7953"
            ],
            [
             0.7777777777777778,
             "#fb9f3a"
            ],
            [
             0.8888888888888888,
             "#fdca26"
            ],
            [
             1,
             "#f0f921"
            ]
           ],
           "sequentialminus": [
            [
             0,
             "#0d0887"
            ],
            [
             0.1111111111111111,
             "#46039f"
            ],
            [
             0.2222222222222222,
             "#7201a8"
            ],
            [
             0.3333333333333333,
             "#9c179e"
            ],
            [
             0.4444444444444444,
             "#bd3786"
            ],
            [
             0.5555555555555556,
             "#d8576b"
            ],
            [
             0.6666666666666666,
             "#ed7953"
            ],
            [
             0.7777777777777778,
             "#fb9f3a"
            ],
            [
             0.8888888888888888,
             "#fdca26"
            ],
            [
             1,
             "#f0f921"
            ]
           ]
          },
          "colorway": [
           "#636efa",
           "#EF553B",
           "#00cc96",
           "#ab63fa",
           "#FFA15A",
           "#19d3f3",
           "#FF6692",
           "#B6E880",
           "#FF97FF",
           "#FECB52"
          ],
          "font": {
           "color": "#2a3f5f"
          },
          "geo": {
           "bgcolor": "white",
           "lakecolor": "white",
           "landcolor": "#E5ECF6",
           "showlakes": true,
           "showland": true,
           "subunitcolor": "white"
          },
          "hoverlabel": {
           "align": "left"
          },
          "hovermode": "closest",
          "mapbox": {
           "style": "light"
          },
          "paper_bgcolor": "white",
          "plot_bgcolor": "#E5ECF6",
          "polar": {
           "angularaxis": {
            "gridcolor": "white",
            "linecolor": "white",
            "ticks": ""
           },
           "bgcolor": "#E5ECF6",
           "radialaxis": {
            "gridcolor": "white",
            "linecolor": "white",
            "ticks": ""
           }
          },
          "scene": {
           "xaxis": {
            "backgroundcolor": "#E5ECF6",
            "gridcolor": "white",
            "gridwidth": 2,
            "linecolor": "white",
            "showbackground": true,
            "ticks": "",
            "zerolinecolor": "white"
           },
           "yaxis": {
            "backgroundcolor": "#E5ECF6",
            "gridcolor": "white",
            "gridwidth": 2,
            "linecolor": "white",
            "showbackground": true,
            "ticks": "",
            "zerolinecolor": "white"
           },
           "zaxis": {
            "backgroundcolor": "#E5ECF6",
            "gridcolor": "white",
            "gridwidth": 2,
            "linecolor": "white",
            "showbackground": true,
            "ticks": "",
            "zerolinecolor": "white"
           }
          },
          "shapedefaults": {
           "line": {
            "color": "#2a3f5f"
           }
          },
          "ternary": {
           "aaxis": {
            "gridcolor": "white",
            "linecolor": "white",
            "ticks": ""
           },
           "baxis": {
            "gridcolor": "white",
            "linecolor": "white",
            "ticks": ""
           },
           "bgcolor": "#E5ECF6",
           "caxis": {
            "gridcolor": "white",
            "linecolor": "white",
            "ticks": ""
           }
          },
          "title": {
           "x": 0.05
          },
          "xaxis": {
           "automargin": true,
           "gridcolor": "white",
           "linecolor": "white",
           "ticks": "",
           "title": {
            "standoff": 15
           },
           "zerolinecolor": "white",
           "zerolinewidth": 2
          },
          "yaxis": {
           "automargin": true,
           "gridcolor": "white",
           "linecolor": "white",
           "ticks": "",
           "title": {
            "standoff": 15
           },
           "zerolinecolor": "white",
           "zerolinewidth": 2
          }
         }
        },
        "title": {
         "font": {
          "color": "white",
          "size": 24
         },
         "text": "Distribution of PG rated movies by Genre"
        }
       }
      },
      "text/html": [
       "<div>                            <div id=\"c2790257-ae1a-402d-9074-8429877031e4\" class=\"plotly-graph-div\" style=\"height:525px; width:100%;\"></div>            <script type=\"text/javascript\">                require([\"plotly\"], function(Plotly) {                    window.PLOTLYENV=window.PLOTLYENV || {};                                    if (document.getElementById(\"c2790257-ae1a-402d-9074-8429877031e4\")) {                    Plotly.newPlot(                        \"c2790257-ae1a-402d-9074-8429877031e4\",                        [{\"customdata\":[[\"Action\"],[\"Adventure\"],[\"Animation\"],[\"Biography\"],[\"Comedy\"],[\"Crime\"],[\"Drama\"],[\"Family\"],[\"Fantasy\"],[\"Horror\"],[\"Music\"],[\"Mystery\"],[\"Romance\"],[\"Sci-Fi\"],[\"Sport\"],[\"Thriller\"],[\"War\"]],\"domain\":{\"x\":[0.0,1.0],\"y\":[0.0,1.0]},\"hovertemplate\":\"genre=%{customdata[0]}\\u003cbr\\u003ecount=%{value}\\u003cextra\\u003e\\u003c\\u002fextra\\u003e\",\"labels\":[\"Action\",\"Adventure\",\"Animation\",\"Biography\",\"Comedy\",\"Crime\",\"Drama\",\"Family\",\"Fantasy\",\"Horror\",\"Music\",\"Mystery\",\"Romance\",\"Sci-Fi\",\"Sport\",\"Thriller\",\"War\"],\"legendgroup\":\"\",\"marker\":{\"colors\":[\"#636efa\",\"#EF553B\",\"#00cc96\",\"#ab63fa\",\"#FFA15A\",\"#19d3f3\",\"#FF6692\",\"#B6E880\",\"#FF97FF\",\"#FECB52\",\"#636efa\",\"#EF553B\",\"#00cc96\",\"#ab63fa\",\"#FFA15A\",\"#19d3f3\",\"#FF6692\"],\"line\":{\"color\":\"black\",\"width\":1}},\"name\":\"\",\"showlegend\":true,\"values\":[9,21,12,3,10,2,20,5,6,1,1,3,3,2,2,3,4],\"type\":\"pie\"}],                        {\"template\":{\"data\":{\"histogram2dcontour\":[{\"type\":\"histogram2dcontour\",\"colorbar\":{\"outlinewidth\":0,\"ticks\":\"\"},\"colorscale\":[[0.0,\"#0d0887\"],[0.1111111111111111,\"#46039f\"],[0.2222222222222222,\"#7201a8\"],[0.3333333333333333,\"#9c179e\"],[0.4444444444444444,\"#bd3786\"],[0.5555555555555556,\"#d8576b\"],[0.6666666666666666,\"#ed7953\"],[0.7777777777777778,\"#fb9f3a\"],[0.8888888888888888,\"#fdca26\"],[1.0,\"#f0f921\"]]}],\"choropleth\":[{\"type\":\"choropleth\",\"colorbar\":{\"outlinewidth\":0,\"ticks\":\"\"}}],\"histogram2d\":[{\"type\":\"histogram2d\",\"colorbar\":{\"outlinewidth\":0,\"ticks\":\"\"},\"colorscale\":[[0.0,\"#0d0887\"],[0.1111111111111111,\"#46039f\"],[0.2222222222222222,\"#7201a8\"],[0.3333333333333333,\"#9c179e\"],[0.4444444444444444,\"#bd3786\"],[0.5555555555555556,\"#d8576b\"],[0.6666666666666666,\"#ed7953\"],[0.7777777777777778,\"#fb9f3a\"],[0.8888888888888888,\"#fdca26\"],[1.0,\"#f0f921\"]]}],\"heatmap\":[{\"type\":\"heatmap\",\"colorbar\":{\"outlinewidth\":0,\"ticks\":\"\"},\"colorscale\":[[0.0,\"#0d0887\"],[0.1111111111111111,\"#46039f\"],[0.2222222222222222,\"#7201a8\"],[0.3333333333333333,\"#9c179e\"],[0.4444444444444444,\"#bd3786\"],[0.5555555555555556,\"#d8576b\"],[0.6666666666666666,\"#ed7953\"],[0.7777777777777778,\"#fb9f3a\"],[0.8888888888888888,\"#fdca26\"],[1.0,\"#f0f921\"]]}],\"heatmapgl\":[{\"type\":\"heatmapgl\",\"colorbar\":{\"outlinewidth\":0,\"ticks\":\"\"},\"colorscale\":[[0.0,\"#0d0887\"],[0.1111111111111111,\"#46039f\"],[0.2222222222222222,\"#7201a8\"],[0.3333333333333333,\"#9c179e\"],[0.4444444444444444,\"#bd3786\"],[0.5555555555555556,\"#d8576b\"],[0.6666666666666666,\"#ed7953\"],[0.7777777777777778,\"#fb9f3a\"],[0.8888888888888888,\"#fdca26\"],[1.0,\"#f0f921\"]]}],\"contourcarpet\":[{\"type\":\"contourcarpet\",\"colorbar\":{\"outlinewidth\":0,\"ticks\":\"\"}}],\"contour\":[{\"type\":\"contour\",\"colorbar\":{\"outlinewidth\":0,\"ticks\":\"\"},\"colorscale\":[[0.0,\"#0d0887\"],[0.1111111111111111,\"#46039f\"],[0.2222222222222222,\"#7201a8\"],[0.3333333333333333,\"#9c179e\"],[0.4444444444444444,\"#bd3786\"],[0.5555555555555556,\"#d8576b\"],[0.6666666666666666,\"#ed7953\"],[0.7777777777777778,\"#fb9f3a\"],[0.8888888888888888,\"#fdca26\"],[1.0,\"#f0f921\"]]}],\"surface\":[{\"type\":\"surface\",\"colorbar\":{\"outlinewidth\":0,\"ticks\":\"\"},\"colorscale\":[[0.0,\"#0d0887\"],[0.1111111111111111,\"#46039f\"],[0.2222222222222222,\"#7201a8\"],[0.3333333333333333,\"#9c179e\"],[0.4444444444444444,\"#bd3786\"],[0.5555555555555556,\"#d8576b\"],[0.6666666666666666,\"#ed7953\"],[0.7777777777777778,\"#fb9f3a\"],[0.8888888888888888,\"#fdca26\"],[1.0,\"#f0f921\"]]}],\"mesh3d\":[{\"type\":\"mesh3d\",\"colorbar\":{\"outlinewidth\":0,\"ticks\":\"\"}}],\"scatter\":[{\"fillpattern\":{\"fillmode\":\"overlay\",\"size\":10,\"solidity\":0.2},\"type\":\"scatter\"}],\"parcoords\":[{\"type\":\"parcoords\",\"line\":{\"colorbar\":{\"outlinewidth\":0,\"ticks\":\"\"}}}],\"scatterpolargl\":[{\"type\":\"scatterpolargl\",\"marker\":{\"colorbar\":{\"outlinewidth\":0,\"ticks\":\"\"}}}],\"bar\":[{\"error_x\":{\"color\":\"#2a3f5f\"},\"error_y\":{\"color\":\"#2a3f5f\"},\"marker\":{\"line\":{\"color\":\"#E5ECF6\",\"width\":0.5},\"pattern\":{\"fillmode\":\"overlay\",\"size\":10,\"solidity\":0.2}},\"type\":\"bar\"}],\"scattergeo\":[{\"type\":\"scattergeo\",\"marker\":{\"colorbar\":{\"outlinewidth\":0,\"ticks\":\"\"}}}],\"scatterpolar\":[{\"type\":\"scatterpolar\",\"marker\":{\"colorbar\":{\"outlinewidth\":0,\"ticks\":\"\"}}}],\"histogram\":[{\"marker\":{\"pattern\":{\"fillmode\":\"overlay\",\"size\":10,\"solidity\":0.2}},\"type\":\"histogram\"}],\"scattergl\":[{\"type\":\"scattergl\",\"marker\":{\"colorbar\":{\"outlinewidth\":0,\"ticks\":\"\"}}}],\"scatter3d\":[{\"type\":\"scatter3d\",\"line\":{\"colorbar\":{\"outlinewidth\":0,\"ticks\":\"\"}},\"marker\":{\"colorbar\":{\"outlinewidth\":0,\"ticks\":\"\"}}}],\"scattermapbox\":[{\"type\":\"scattermapbox\",\"marker\":{\"colorbar\":{\"outlinewidth\":0,\"ticks\":\"\"}}}],\"scatterternary\":[{\"type\":\"scatterternary\",\"marker\":{\"colorbar\":{\"outlinewidth\":0,\"ticks\":\"\"}}}],\"scattercarpet\":[{\"type\":\"scattercarpet\",\"marker\":{\"colorbar\":{\"outlinewidth\":0,\"ticks\":\"\"}}}],\"carpet\":[{\"aaxis\":{\"endlinecolor\":\"#2a3f5f\",\"gridcolor\":\"white\",\"linecolor\":\"white\",\"minorgridcolor\":\"white\",\"startlinecolor\":\"#2a3f5f\"},\"baxis\":{\"endlinecolor\":\"#2a3f5f\",\"gridcolor\":\"white\",\"linecolor\":\"white\",\"minorgridcolor\":\"white\",\"startlinecolor\":\"#2a3f5f\"},\"type\":\"carpet\"}],\"table\":[{\"cells\":{\"fill\":{\"color\":\"#EBF0F8\"},\"line\":{\"color\":\"white\"}},\"header\":{\"fill\":{\"color\":\"#C8D4E3\"},\"line\":{\"color\":\"white\"}},\"type\":\"table\"}],\"barpolar\":[{\"marker\":{\"line\":{\"color\":\"#E5ECF6\",\"width\":0.5},\"pattern\":{\"fillmode\":\"overlay\",\"size\":10,\"solidity\":0.2}},\"type\":\"barpolar\"}],\"pie\":[{\"automargin\":true,\"type\":\"pie\"}]},\"layout\":{\"autotypenumbers\":\"strict\",\"colorway\":[\"#636efa\",\"#EF553B\",\"#00cc96\",\"#ab63fa\",\"#FFA15A\",\"#19d3f3\",\"#FF6692\",\"#B6E880\",\"#FF97FF\",\"#FECB52\"],\"font\":{\"color\":\"#2a3f5f\"},\"hovermode\":\"closest\",\"hoverlabel\":{\"align\":\"left\"},\"paper_bgcolor\":\"white\",\"plot_bgcolor\":\"#E5ECF6\",\"polar\":{\"bgcolor\":\"#E5ECF6\",\"angularaxis\":{\"gridcolor\":\"white\",\"linecolor\":\"white\",\"ticks\":\"\"},\"radialaxis\":{\"gridcolor\":\"white\",\"linecolor\":\"white\",\"ticks\":\"\"}},\"ternary\":{\"bgcolor\":\"#E5ECF6\",\"aaxis\":{\"gridcolor\":\"white\",\"linecolor\":\"white\",\"ticks\":\"\"},\"baxis\":{\"gridcolor\":\"white\",\"linecolor\":\"white\",\"ticks\":\"\"},\"caxis\":{\"gridcolor\":\"white\",\"linecolor\":\"white\",\"ticks\":\"\"}},\"coloraxis\":{\"colorbar\":{\"outlinewidth\":0,\"ticks\":\"\"}},\"colorscale\":{\"sequential\":[[0.0,\"#0d0887\"],[0.1111111111111111,\"#46039f\"],[0.2222222222222222,\"#7201a8\"],[0.3333333333333333,\"#9c179e\"],[0.4444444444444444,\"#bd3786\"],[0.5555555555555556,\"#d8576b\"],[0.6666666666666666,\"#ed7953\"],[0.7777777777777778,\"#fb9f3a\"],[0.8888888888888888,\"#fdca26\"],[1.0,\"#f0f921\"]],\"sequentialminus\":[[0.0,\"#0d0887\"],[0.1111111111111111,\"#46039f\"],[0.2222222222222222,\"#7201a8\"],[0.3333333333333333,\"#9c179e\"],[0.4444444444444444,\"#bd3786\"],[0.5555555555555556,\"#d8576b\"],[0.6666666666666666,\"#ed7953\"],[0.7777777777777778,\"#fb9f3a\"],[0.8888888888888888,\"#fdca26\"],[1.0,\"#f0f921\"]],\"diverging\":[[0,\"#8e0152\"],[0.1,\"#c51b7d\"],[0.2,\"#de77ae\"],[0.3,\"#f1b6da\"],[0.4,\"#fde0ef\"],[0.5,\"#f7f7f7\"],[0.6,\"#e6f5d0\"],[0.7,\"#b8e186\"],[0.8,\"#7fbc41\"],[0.9,\"#4d9221\"],[1,\"#276419\"]]},\"xaxis\":{\"gridcolor\":\"white\",\"linecolor\":\"white\",\"ticks\":\"\",\"title\":{\"standoff\":15},\"zerolinecolor\":\"white\",\"automargin\":true,\"zerolinewidth\":2},\"yaxis\":{\"gridcolor\":\"white\",\"linecolor\":\"white\",\"ticks\":\"\",\"title\":{\"standoff\":15},\"zerolinecolor\":\"white\",\"automargin\":true,\"zerolinewidth\":2},\"scene\":{\"xaxis\":{\"backgroundcolor\":\"#E5ECF6\",\"gridcolor\":\"white\",\"linecolor\":\"white\",\"showbackground\":true,\"ticks\":\"\",\"zerolinecolor\":\"white\",\"gridwidth\":2},\"yaxis\":{\"backgroundcolor\":\"#E5ECF6\",\"gridcolor\":\"white\",\"linecolor\":\"white\",\"showbackground\":true,\"ticks\":\"\",\"zerolinecolor\":\"white\",\"gridwidth\":2},\"zaxis\":{\"backgroundcolor\":\"#E5ECF6\",\"gridcolor\":\"white\",\"linecolor\":\"white\",\"showbackground\":true,\"ticks\":\"\",\"zerolinecolor\":\"white\",\"gridwidth\":2}},\"shapedefaults\":{\"line\":{\"color\":\"#2a3f5f\"}},\"annotationdefaults\":{\"arrowcolor\":\"#2a3f5f\",\"arrowhead\":0,\"arrowwidth\":1},\"geo\":{\"bgcolor\":\"white\",\"landcolor\":\"#E5ECF6\",\"subunitcolor\":\"white\",\"showland\":true,\"showlakes\":true,\"lakecolor\":\"white\"},\"title\":{\"x\":0.05},\"mapbox\":{\"style\":\"light\"}}},\"legend\":{\"tracegroupgap\":0},\"margin\":{\"t\":60},\"title\":{\"font\":{\"size\":24,\"color\":\"white\"},\"text\":\"Distribution of PG rated movies by Genre\"},\"font\":{\"color\":\"white\"},\"plot_bgcolor\":\"black\",\"paper_bgcolor\":\"black\"},                        {\"responsive\": true}                    ).then(function(){\n",
       "                            \n",
       "var gd = document.getElementById('c2790257-ae1a-402d-9074-8429877031e4');\n",
       "var x = new MutationObserver(function (mutations, observer) {{\n",
       "        var display = window.getComputedStyle(gd).display;\n",
       "        if (!display || display === 'none') {{\n",
       "            console.log([gd, 'removed!']);\n",
       "            Plotly.purge(gd);\n",
       "            observer.disconnect();\n",
       "        }}\n",
       "}});\n",
       "\n",
       "// Listen for the removal of the full notebook cells\n",
       "var notebookContainer = gd.closest('#notebook-container');\n",
       "if (notebookContainer) {{\n",
       "    x.observe(notebookContainer, {childList: true});\n",
       "}}\n",
       "\n",
       "// Listen for the clearing of the current output cell\n",
       "var outputEl = gd.closest('.output');\n",
       "if (outputEl) {{\n",
       "    x.observe(outputEl, {childList: true});\n",
       "}}\n",
       "\n",
       "                        })                };                });            </script>        </div>"
      ]
     },
     "metadata": {},
     "output_type": "display_data"
    }
   ],
   "source": [
    "# Assuming 'pg_df' is your dataframe and it has columns 'genre' and 'count'\n",
    "fig = px.pie(pg_df, names='genre', values='count', color='genre')\n",
    "\n",
    "# Update layout to match the desired styling\n",
    "fig.update_layout(\n",
    "    plot_bgcolor='black',  # Set the figure background color to black\n",
    "    paper_bgcolor='black',  # Set the paper background color to black\n",
    "    title={'text': \"Distribution of PG rated movies by Genre\", 'font': {'size': 24, 'color': 'white'}},\n",
    "    font={'color': 'white'}\n",
    ")\n",
    "\n",
    "# Update traces to add a border around the pie slices\n",
    "fig.update_traces(marker=dict(line=dict(color='black', width=1)))\n",
    "\n",
    "# Show the figure\n",
    "fig.show()"
   ]
  },
  {
   "cell_type": "markdown",
   "id": "b77a1611-b11a-4ac6-9bea-b73d3cf6f1b8",
   "metadata": {},
   "source": [
    "Examining the distribution shown in the pie chart, a significant portion of PG-rated movies (approximately 49%) fall into the Drama, Adventure, and Animation genres.\n",
    "\n",
    "- This implies that when searching for a top 250 PG-rated movie, one is most likely to encounter a film from the Adventure, Drama, or Animation genres.\n",
    "- According to the descriptive statistics, the median is less than the mean, indicating a positively skewed (right-skewed) distribution. This is evident in our chart, where the majority of data points (movies) are clustered at the lower end, with a few high-value outliers (such as Adventure and Drama)."
   ]
  },
  {
   "cell_type": "code",
   "execution_count": 40,
   "id": "d2410637-6d46-4782-86bf-5e03de21eb11",
   "metadata": {},
   "outputs": [
    {
     "data": {
      "text/html": [
       "<div>\n",
       "<style scoped>\n",
       "    .dataframe tbody tr th:only-of-type {\n",
       "        vertical-align: middle;\n",
       "    }\n",
       "\n",
       "    .dataframe tbody tr th {\n",
       "        vertical-align: top;\n",
       "    }\n",
       "\n",
       "    .dataframe thead th {\n",
       "        text-align: right;\n",
       "    }\n",
       "</style>\n",
       "<table border=\"1\" class=\"dataframe\">\n",
       "  <thead>\n",
       "    <tr style=\"text-align: right;\">\n",
       "      <th></th>\n",
       "      <th>rating</th>\n",
       "      <th>genre</th>\n",
       "      <th>count</th>\n",
       "    </tr>\n",
       "  </thead>\n",
       "  <tbody>\n",
       "    <tr>\n",
       "      <th>11</th>\n",
       "      <td>G</td>\n",
       "      <td>Adventure</td>\n",
       "      <td>10</td>\n",
       "    </tr>\n",
       "    <tr>\n",
       "      <th>12</th>\n",
       "      <td>G</td>\n",
       "      <td>Animation</td>\n",
       "      <td>8</td>\n",
       "    </tr>\n",
       "    <tr>\n",
       "      <th>13</th>\n",
       "      <td>G</td>\n",
       "      <td>Biography</td>\n",
       "      <td>2</td>\n",
       "    </tr>\n",
       "    <tr>\n",
       "      <th>14</th>\n",
       "      <td>G</td>\n",
       "      <td>Comedy</td>\n",
       "      <td>10</td>\n",
       "    </tr>\n",
       "    <tr>\n",
       "      <th>15</th>\n",
       "      <td>G</td>\n",
       "      <td>Drama</td>\n",
       "      <td>8</td>\n",
       "    </tr>\n",
       "    <tr>\n",
       "      <th>16</th>\n",
       "      <td>G</td>\n",
       "      <td>Family</td>\n",
       "      <td>5</td>\n",
       "    </tr>\n",
       "    <tr>\n",
       "      <th>17</th>\n",
       "      <td>G</td>\n",
       "      <td>Fantasy</td>\n",
       "      <td>1</td>\n",
       "    </tr>\n",
       "    <tr>\n",
       "      <th>18</th>\n",
       "      <td>G</td>\n",
       "      <td>Musical</td>\n",
       "      <td>1</td>\n",
       "    </tr>\n",
       "    <tr>\n",
       "      <th>19</th>\n",
       "      <td>G</td>\n",
       "      <td>Romance</td>\n",
       "      <td>4</td>\n",
       "    </tr>\n",
       "    <tr>\n",
       "      <th>20</th>\n",
       "      <td>G</td>\n",
       "      <td>Sci-Fi</td>\n",
       "      <td>1</td>\n",
       "    </tr>\n",
       "    <tr>\n",
       "      <th>21</th>\n",
       "      <td>G</td>\n",
       "      <td>War</td>\n",
       "      <td>2</td>\n",
       "    </tr>\n",
       "  </tbody>\n",
       "</table>\n",
       "</div>"
      ],
      "text/plain": [
       "   rating      genre  count\n",
       "11      G  Adventure     10\n",
       "12      G  Animation      8\n",
       "13      G  Biography      2\n",
       "14      G     Comedy     10\n",
       "15      G      Drama      8\n",
       "16      G     Family      5\n",
       "17      G    Fantasy      1\n",
       "18      G    Musical      1\n",
       "19      G    Romance      4\n",
       "20      G     Sci-Fi      1\n",
       "21      G        War      2"
      ]
     },
     "metadata": {},
     "output_type": "display_data"
    },
    {
     "name": "stdout",
     "output_type": "stream",
     "text": [
      "           count\n",
      "count  11.000000\n",
      "mean    4.727273\n",
      "std     3.663084\n",
      "min     1.000000\n",
      "25%     1.500000\n",
      "50%     4.000000\n",
      "75%     8.000000\n",
      "max    10.000000\n",
      "Mode: 0    1\n",
      "Name: count, dtype: int64\n"
     ]
    }
   ],
   "source": [
    "display(g_df)\n",
    "print(g_df.describe())\n",
    "print('Mode:', g_df['count'].mode())"
   ]
  },
  {
   "cell_type": "code",
   "execution_count": 41,
   "id": "859e6442-623d-46de-83c3-90e8b51595bd",
   "metadata": {},
   "outputs": [
    {
     "data": {
      "application/vnd.plotly.v1+json": {
       "config": {
        "plotlyServerURL": "https://plot.ly"
       },
       "data": [
        {
         "customdata": [
          [
           "Adventure"
          ],
          [
           "Animation"
          ],
          [
           "Biography"
          ],
          [
           "Comedy"
          ],
          [
           "Drama"
          ],
          [
           "Family"
          ],
          [
           "Fantasy"
          ],
          [
           "Musical"
          ],
          [
           "Romance"
          ],
          [
           "Sci-Fi"
          ],
          [
           "War"
          ]
         ],
         "domain": {
          "x": [
           0,
           1
          ],
          "y": [
           0,
           1
          ]
         },
         "hovertemplate": "genre=%{customdata[0]}<br>count=%{value}<extra></extra>",
         "labels": [
          "Adventure",
          "Animation",
          "Biography",
          "Comedy",
          "Drama",
          "Family",
          "Fantasy",
          "Musical",
          "Romance",
          "Sci-Fi",
          "War"
         ],
         "legendgroup": "",
         "marker": {
          "colors": [
           "#636efa",
           "#EF553B",
           "#00cc96",
           "#ab63fa",
           "#FFA15A",
           "#19d3f3",
           "#FF6692",
           "#B6E880",
           "#FF97FF",
           "#FECB52",
           "#636efa"
          ],
          "line": {
           "color": "black",
           "width": 1
          }
         },
         "name": "",
         "showlegend": true,
         "type": "pie",
         "values": [
          10,
          8,
          2,
          10,
          8,
          5,
          1,
          1,
          4,
          1,
          2
         ]
        }
       ],
       "layout": {
        "font": {
         "color": "white"
        },
        "legend": {
         "tracegroupgap": 0
        },
        "margin": {
         "t": 60
        },
        "paper_bgcolor": "black",
        "plot_bgcolor": "black",
        "template": {
         "data": {
          "bar": [
           {
            "error_x": {
             "color": "#2a3f5f"
            },
            "error_y": {
             "color": "#2a3f5f"
            },
            "marker": {
             "line": {
              "color": "#E5ECF6",
              "width": 0.5
             },
             "pattern": {
              "fillmode": "overlay",
              "size": 10,
              "solidity": 0.2
             }
            },
            "type": "bar"
           }
          ],
          "barpolar": [
           {
            "marker": {
             "line": {
              "color": "#E5ECF6",
              "width": 0.5
             },
             "pattern": {
              "fillmode": "overlay",
              "size": 10,
              "solidity": 0.2
             }
            },
            "type": "barpolar"
           }
          ],
          "carpet": [
           {
            "aaxis": {
             "endlinecolor": "#2a3f5f",
             "gridcolor": "white",
             "linecolor": "white",
             "minorgridcolor": "white",
             "startlinecolor": "#2a3f5f"
            },
            "baxis": {
             "endlinecolor": "#2a3f5f",
             "gridcolor": "white",
             "linecolor": "white",
             "minorgridcolor": "white",
             "startlinecolor": "#2a3f5f"
            },
            "type": "carpet"
           }
          ],
          "choropleth": [
           {
            "colorbar": {
             "outlinewidth": 0,
             "ticks": ""
            },
            "type": "choropleth"
           }
          ],
          "contour": [
           {
            "colorbar": {
             "outlinewidth": 0,
             "ticks": ""
            },
            "colorscale": [
             [
              0,
              "#0d0887"
             ],
             [
              0.1111111111111111,
              "#46039f"
             ],
             [
              0.2222222222222222,
              "#7201a8"
             ],
             [
              0.3333333333333333,
              "#9c179e"
             ],
             [
              0.4444444444444444,
              "#bd3786"
             ],
             [
              0.5555555555555556,
              "#d8576b"
             ],
             [
              0.6666666666666666,
              "#ed7953"
             ],
             [
              0.7777777777777778,
              "#fb9f3a"
             ],
             [
              0.8888888888888888,
              "#fdca26"
             ],
             [
              1,
              "#f0f921"
             ]
            ],
            "type": "contour"
           }
          ],
          "contourcarpet": [
           {
            "colorbar": {
             "outlinewidth": 0,
             "ticks": ""
            },
            "type": "contourcarpet"
           }
          ],
          "heatmap": [
           {
            "colorbar": {
             "outlinewidth": 0,
             "ticks": ""
            },
            "colorscale": [
             [
              0,
              "#0d0887"
             ],
             [
              0.1111111111111111,
              "#46039f"
             ],
             [
              0.2222222222222222,
              "#7201a8"
             ],
             [
              0.3333333333333333,
              "#9c179e"
             ],
             [
              0.4444444444444444,
              "#bd3786"
             ],
             [
              0.5555555555555556,
              "#d8576b"
             ],
             [
              0.6666666666666666,
              "#ed7953"
             ],
             [
              0.7777777777777778,
              "#fb9f3a"
             ],
             [
              0.8888888888888888,
              "#fdca26"
             ],
             [
              1,
              "#f0f921"
             ]
            ],
            "type": "heatmap"
           }
          ],
          "heatmapgl": [
           {
            "colorbar": {
             "outlinewidth": 0,
             "ticks": ""
            },
            "colorscale": [
             [
              0,
              "#0d0887"
             ],
             [
              0.1111111111111111,
              "#46039f"
             ],
             [
              0.2222222222222222,
              "#7201a8"
             ],
             [
              0.3333333333333333,
              "#9c179e"
             ],
             [
              0.4444444444444444,
              "#bd3786"
             ],
             [
              0.5555555555555556,
              "#d8576b"
             ],
             [
              0.6666666666666666,
              "#ed7953"
             ],
             [
              0.7777777777777778,
              "#fb9f3a"
             ],
             [
              0.8888888888888888,
              "#fdca26"
             ],
             [
              1,
              "#f0f921"
             ]
            ],
            "type": "heatmapgl"
           }
          ],
          "histogram": [
           {
            "marker": {
             "pattern": {
              "fillmode": "overlay",
              "size": 10,
              "solidity": 0.2
             }
            },
            "type": "histogram"
           }
          ],
          "histogram2d": [
           {
            "colorbar": {
             "outlinewidth": 0,
             "ticks": ""
            },
            "colorscale": [
             [
              0,
              "#0d0887"
             ],
             [
              0.1111111111111111,
              "#46039f"
             ],
             [
              0.2222222222222222,
              "#7201a8"
             ],
             [
              0.3333333333333333,
              "#9c179e"
             ],
             [
              0.4444444444444444,
              "#bd3786"
             ],
             [
              0.5555555555555556,
              "#d8576b"
             ],
             [
              0.6666666666666666,
              "#ed7953"
             ],
             [
              0.7777777777777778,
              "#fb9f3a"
             ],
             [
              0.8888888888888888,
              "#fdca26"
             ],
             [
              1,
              "#f0f921"
             ]
            ],
            "type": "histogram2d"
           }
          ],
          "histogram2dcontour": [
           {
            "colorbar": {
             "outlinewidth": 0,
             "ticks": ""
            },
            "colorscale": [
             [
              0,
              "#0d0887"
             ],
             [
              0.1111111111111111,
              "#46039f"
             ],
             [
              0.2222222222222222,
              "#7201a8"
             ],
             [
              0.3333333333333333,
              "#9c179e"
             ],
             [
              0.4444444444444444,
              "#bd3786"
             ],
             [
              0.5555555555555556,
              "#d8576b"
             ],
             [
              0.6666666666666666,
              "#ed7953"
             ],
             [
              0.7777777777777778,
              "#fb9f3a"
             ],
             [
              0.8888888888888888,
              "#fdca26"
             ],
             [
              1,
              "#f0f921"
             ]
            ],
            "type": "histogram2dcontour"
           }
          ],
          "mesh3d": [
           {
            "colorbar": {
             "outlinewidth": 0,
             "ticks": ""
            },
            "type": "mesh3d"
           }
          ],
          "parcoords": [
           {
            "line": {
             "colorbar": {
              "outlinewidth": 0,
              "ticks": ""
             }
            },
            "type": "parcoords"
           }
          ],
          "pie": [
           {
            "automargin": true,
            "type": "pie"
           }
          ],
          "scatter": [
           {
            "fillpattern": {
             "fillmode": "overlay",
             "size": 10,
             "solidity": 0.2
            },
            "type": "scatter"
           }
          ],
          "scatter3d": [
           {
            "line": {
             "colorbar": {
              "outlinewidth": 0,
              "ticks": ""
             }
            },
            "marker": {
             "colorbar": {
              "outlinewidth": 0,
              "ticks": ""
             }
            },
            "type": "scatter3d"
           }
          ],
          "scattercarpet": [
           {
            "marker": {
             "colorbar": {
              "outlinewidth": 0,
              "ticks": ""
             }
            },
            "type": "scattercarpet"
           }
          ],
          "scattergeo": [
           {
            "marker": {
             "colorbar": {
              "outlinewidth": 0,
              "ticks": ""
             }
            },
            "type": "scattergeo"
           }
          ],
          "scattergl": [
           {
            "marker": {
             "colorbar": {
              "outlinewidth": 0,
              "ticks": ""
             }
            },
            "type": "scattergl"
           }
          ],
          "scattermapbox": [
           {
            "marker": {
             "colorbar": {
              "outlinewidth": 0,
              "ticks": ""
             }
            },
            "type": "scattermapbox"
           }
          ],
          "scatterpolar": [
           {
            "marker": {
             "colorbar": {
              "outlinewidth": 0,
              "ticks": ""
             }
            },
            "type": "scatterpolar"
           }
          ],
          "scatterpolargl": [
           {
            "marker": {
             "colorbar": {
              "outlinewidth": 0,
              "ticks": ""
             }
            },
            "type": "scatterpolargl"
           }
          ],
          "scatterternary": [
           {
            "marker": {
             "colorbar": {
              "outlinewidth": 0,
              "ticks": ""
             }
            },
            "type": "scatterternary"
           }
          ],
          "surface": [
           {
            "colorbar": {
             "outlinewidth": 0,
             "ticks": ""
            },
            "colorscale": [
             [
              0,
              "#0d0887"
             ],
             [
              0.1111111111111111,
              "#46039f"
             ],
             [
              0.2222222222222222,
              "#7201a8"
             ],
             [
              0.3333333333333333,
              "#9c179e"
             ],
             [
              0.4444444444444444,
              "#bd3786"
             ],
             [
              0.5555555555555556,
              "#d8576b"
             ],
             [
              0.6666666666666666,
              "#ed7953"
             ],
             [
              0.7777777777777778,
              "#fb9f3a"
             ],
             [
              0.8888888888888888,
              "#fdca26"
             ],
             [
              1,
              "#f0f921"
             ]
            ],
            "type": "surface"
           }
          ],
          "table": [
           {
            "cells": {
             "fill": {
              "color": "#EBF0F8"
             },
             "line": {
              "color": "white"
             }
            },
            "header": {
             "fill": {
              "color": "#C8D4E3"
             },
             "line": {
              "color": "white"
             }
            },
            "type": "table"
           }
          ]
         },
         "layout": {
          "annotationdefaults": {
           "arrowcolor": "#2a3f5f",
           "arrowhead": 0,
           "arrowwidth": 1
          },
          "autotypenumbers": "strict",
          "coloraxis": {
           "colorbar": {
            "outlinewidth": 0,
            "ticks": ""
           }
          },
          "colorscale": {
           "diverging": [
            [
             0,
             "#8e0152"
            ],
            [
             0.1,
             "#c51b7d"
            ],
            [
             0.2,
             "#de77ae"
            ],
            [
             0.3,
             "#f1b6da"
            ],
            [
             0.4,
             "#fde0ef"
            ],
            [
             0.5,
             "#f7f7f7"
            ],
            [
             0.6,
             "#e6f5d0"
            ],
            [
             0.7,
             "#b8e186"
            ],
            [
             0.8,
             "#7fbc41"
            ],
            [
             0.9,
             "#4d9221"
            ],
            [
             1,
             "#276419"
            ]
           ],
           "sequential": [
            [
             0,
             "#0d0887"
            ],
            [
             0.1111111111111111,
             "#46039f"
            ],
            [
             0.2222222222222222,
             "#7201a8"
            ],
            [
             0.3333333333333333,
             "#9c179e"
            ],
            [
             0.4444444444444444,
             "#bd3786"
            ],
            [
             0.5555555555555556,
             "#d8576b"
            ],
            [
             0.6666666666666666,
             "#ed7953"
            ],
            [
             0.7777777777777778,
             "#fb9f3a"
            ],
            [
             0.8888888888888888,
             "#fdca26"
            ],
            [
             1,
             "#f0f921"
            ]
           ],
           "sequentialminus": [
            [
             0,
             "#0d0887"
            ],
            [
             0.1111111111111111,
             "#46039f"
            ],
            [
             0.2222222222222222,
             "#7201a8"
            ],
            [
             0.3333333333333333,
             "#9c179e"
            ],
            [
             0.4444444444444444,
             "#bd3786"
            ],
            [
             0.5555555555555556,
             "#d8576b"
            ],
            [
             0.6666666666666666,
             "#ed7953"
            ],
            [
             0.7777777777777778,
             "#fb9f3a"
            ],
            [
             0.8888888888888888,
             "#fdca26"
            ],
            [
             1,
             "#f0f921"
            ]
           ]
          },
          "colorway": [
           "#636efa",
           "#EF553B",
           "#00cc96",
           "#ab63fa",
           "#FFA15A",
           "#19d3f3",
           "#FF6692",
           "#B6E880",
           "#FF97FF",
           "#FECB52"
          ],
          "font": {
           "color": "#2a3f5f"
          },
          "geo": {
           "bgcolor": "white",
           "lakecolor": "white",
           "landcolor": "#E5ECF6",
           "showlakes": true,
           "showland": true,
           "subunitcolor": "white"
          },
          "hoverlabel": {
           "align": "left"
          },
          "hovermode": "closest",
          "mapbox": {
           "style": "light"
          },
          "paper_bgcolor": "white",
          "plot_bgcolor": "#E5ECF6",
          "polar": {
           "angularaxis": {
            "gridcolor": "white",
            "linecolor": "white",
            "ticks": ""
           },
           "bgcolor": "#E5ECF6",
           "radialaxis": {
            "gridcolor": "white",
            "linecolor": "white",
            "ticks": ""
           }
          },
          "scene": {
           "xaxis": {
            "backgroundcolor": "#E5ECF6",
            "gridcolor": "white",
            "gridwidth": 2,
            "linecolor": "white",
            "showbackground": true,
            "ticks": "",
            "zerolinecolor": "white"
           },
           "yaxis": {
            "backgroundcolor": "#E5ECF6",
            "gridcolor": "white",
            "gridwidth": 2,
            "linecolor": "white",
            "showbackground": true,
            "ticks": "",
            "zerolinecolor": "white"
           },
           "zaxis": {
            "backgroundcolor": "#E5ECF6",
            "gridcolor": "white",
            "gridwidth": 2,
            "linecolor": "white",
            "showbackground": true,
            "ticks": "",
            "zerolinecolor": "white"
           }
          },
          "shapedefaults": {
           "line": {
            "color": "#2a3f5f"
           }
          },
          "ternary": {
           "aaxis": {
            "gridcolor": "white",
            "linecolor": "white",
            "ticks": ""
           },
           "baxis": {
            "gridcolor": "white",
            "linecolor": "white",
            "ticks": ""
           },
           "bgcolor": "#E5ECF6",
           "caxis": {
            "gridcolor": "white",
            "linecolor": "white",
            "ticks": ""
           }
          },
          "title": {
           "x": 0.05
          },
          "xaxis": {
           "automargin": true,
           "gridcolor": "white",
           "linecolor": "white",
           "ticks": "",
           "title": {
            "standoff": 15
           },
           "zerolinecolor": "white",
           "zerolinewidth": 2
          },
          "yaxis": {
           "automargin": true,
           "gridcolor": "white",
           "linecolor": "white",
           "ticks": "",
           "title": {
            "standoff": 15
           },
           "zerolinecolor": "white",
           "zerolinewidth": 2
          }
         }
        },
        "title": {
         "font": {
          "color": "white",
          "size": 24
         },
         "text": "Distribution of G rated movies by Genre"
        }
       }
      },
      "text/html": [
       "<div>                            <div id=\"7e61da09-69f3-43f3-8310-f27b8240f077\" class=\"plotly-graph-div\" style=\"height:525px; width:100%;\"></div>            <script type=\"text/javascript\">                require([\"plotly\"], function(Plotly) {                    window.PLOTLYENV=window.PLOTLYENV || {};                                    if (document.getElementById(\"7e61da09-69f3-43f3-8310-f27b8240f077\")) {                    Plotly.newPlot(                        \"7e61da09-69f3-43f3-8310-f27b8240f077\",                        [{\"customdata\":[[\"Adventure\"],[\"Animation\"],[\"Biography\"],[\"Comedy\"],[\"Drama\"],[\"Family\"],[\"Fantasy\"],[\"Musical\"],[\"Romance\"],[\"Sci-Fi\"],[\"War\"]],\"domain\":{\"x\":[0.0,1.0],\"y\":[0.0,1.0]},\"hovertemplate\":\"genre=%{customdata[0]}\\u003cbr\\u003ecount=%{value}\\u003cextra\\u003e\\u003c\\u002fextra\\u003e\",\"labels\":[\"Adventure\",\"Animation\",\"Biography\",\"Comedy\",\"Drama\",\"Family\",\"Fantasy\",\"Musical\",\"Romance\",\"Sci-Fi\",\"War\"],\"legendgroup\":\"\",\"marker\":{\"colors\":[\"#636efa\",\"#EF553B\",\"#00cc96\",\"#ab63fa\",\"#FFA15A\",\"#19d3f3\",\"#FF6692\",\"#B6E880\",\"#FF97FF\",\"#FECB52\",\"#636efa\"],\"line\":{\"color\":\"black\",\"width\":1}},\"name\":\"\",\"showlegend\":true,\"values\":[10,8,2,10,8,5,1,1,4,1,2],\"type\":\"pie\"}],                        {\"template\":{\"data\":{\"histogram2dcontour\":[{\"type\":\"histogram2dcontour\",\"colorbar\":{\"outlinewidth\":0,\"ticks\":\"\"},\"colorscale\":[[0.0,\"#0d0887\"],[0.1111111111111111,\"#46039f\"],[0.2222222222222222,\"#7201a8\"],[0.3333333333333333,\"#9c179e\"],[0.4444444444444444,\"#bd3786\"],[0.5555555555555556,\"#d8576b\"],[0.6666666666666666,\"#ed7953\"],[0.7777777777777778,\"#fb9f3a\"],[0.8888888888888888,\"#fdca26\"],[1.0,\"#f0f921\"]]}],\"choropleth\":[{\"type\":\"choropleth\",\"colorbar\":{\"outlinewidth\":0,\"ticks\":\"\"}}],\"histogram2d\":[{\"type\":\"histogram2d\",\"colorbar\":{\"outlinewidth\":0,\"ticks\":\"\"},\"colorscale\":[[0.0,\"#0d0887\"],[0.1111111111111111,\"#46039f\"],[0.2222222222222222,\"#7201a8\"],[0.3333333333333333,\"#9c179e\"],[0.4444444444444444,\"#bd3786\"],[0.5555555555555556,\"#d8576b\"],[0.6666666666666666,\"#ed7953\"],[0.7777777777777778,\"#fb9f3a\"],[0.8888888888888888,\"#fdca26\"],[1.0,\"#f0f921\"]]}],\"heatmap\":[{\"type\":\"heatmap\",\"colorbar\":{\"outlinewidth\":0,\"ticks\":\"\"},\"colorscale\":[[0.0,\"#0d0887\"],[0.1111111111111111,\"#46039f\"],[0.2222222222222222,\"#7201a8\"],[0.3333333333333333,\"#9c179e\"],[0.4444444444444444,\"#bd3786\"],[0.5555555555555556,\"#d8576b\"],[0.6666666666666666,\"#ed7953\"],[0.7777777777777778,\"#fb9f3a\"],[0.8888888888888888,\"#fdca26\"],[1.0,\"#f0f921\"]]}],\"heatmapgl\":[{\"type\":\"heatmapgl\",\"colorbar\":{\"outlinewidth\":0,\"ticks\":\"\"},\"colorscale\":[[0.0,\"#0d0887\"],[0.1111111111111111,\"#46039f\"],[0.2222222222222222,\"#7201a8\"],[0.3333333333333333,\"#9c179e\"],[0.4444444444444444,\"#bd3786\"],[0.5555555555555556,\"#d8576b\"],[0.6666666666666666,\"#ed7953\"],[0.7777777777777778,\"#fb9f3a\"],[0.8888888888888888,\"#fdca26\"],[1.0,\"#f0f921\"]]}],\"contourcarpet\":[{\"type\":\"contourcarpet\",\"colorbar\":{\"outlinewidth\":0,\"ticks\":\"\"}}],\"contour\":[{\"type\":\"contour\",\"colorbar\":{\"outlinewidth\":0,\"ticks\":\"\"},\"colorscale\":[[0.0,\"#0d0887\"],[0.1111111111111111,\"#46039f\"],[0.2222222222222222,\"#7201a8\"],[0.3333333333333333,\"#9c179e\"],[0.4444444444444444,\"#bd3786\"],[0.5555555555555556,\"#d8576b\"],[0.6666666666666666,\"#ed7953\"],[0.7777777777777778,\"#fb9f3a\"],[0.8888888888888888,\"#fdca26\"],[1.0,\"#f0f921\"]]}],\"surface\":[{\"type\":\"surface\",\"colorbar\":{\"outlinewidth\":0,\"ticks\":\"\"},\"colorscale\":[[0.0,\"#0d0887\"],[0.1111111111111111,\"#46039f\"],[0.2222222222222222,\"#7201a8\"],[0.3333333333333333,\"#9c179e\"],[0.4444444444444444,\"#bd3786\"],[0.5555555555555556,\"#d8576b\"],[0.6666666666666666,\"#ed7953\"],[0.7777777777777778,\"#fb9f3a\"],[0.8888888888888888,\"#fdca26\"],[1.0,\"#f0f921\"]]}],\"mesh3d\":[{\"type\":\"mesh3d\",\"colorbar\":{\"outlinewidth\":0,\"ticks\":\"\"}}],\"scatter\":[{\"fillpattern\":{\"fillmode\":\"overlay\",\"size\":10,\"solidity\":0.2},\"type\":\"scatter\"}],\"parcoords\":[{\"type\":\"parcoords\",\"line\":{\"colorbar\":{\"outlinewidth\":0,\"ticks\":\"\"}}}],\"scatterpolargl\":[{\"type\":\"scatterpolargl\",\"marker\":{\"colorbar\":{\"outlinewidth\":0,\"ticks\":\"\"}}}],\"bar\":[{\"error_x\":{\"color\":\"#2a3f5f\"},\"error_y\":{\"color\":\"#2a3f5f\"},\"marker\":{\"line\":{\"color\":\"#E5ECF6\",\"width\":0.5},\"pattern\":{\"fillmode\":\"overlay\",\"size\":10,\"solidity\":0.2}},\"type\":\"bar\"}],\"scattergeo\":[{\"type\":\"scattergeo\",\"marker\":{\"colorbar\":{\"outlinewidth\":0,\"ticks\":\"\"}}}],\"scatterpolar\":[{\"type\":\"scatterpolar\",\"marker\":{\"colorbar\":{\"outlinewidth\":0,\"ticks\":\"\"}}}],\"histogram\":[{\"marker\":{\"pattern\":{\"fillmode\":\"overlay\",\"size\":10,\"solidity\":0.2}},\"type\":\"histogram\"}],\"scattergl\":[{\"type\":\"scattergl\",\"marker\":{\"colorbar\":{\"outlinewidth\":0,\"ticks\":\"\"}}}],\"scatter3d\":[{\"type\":\"scatter3d\",\"line\":{\"colorbar\":{\"outlinewidth\":0,\"ticks\":\"\"}},\"marker\":{\"colorbar\":{\"outlinewidth\":0,\"ticks\":\"\"}}}],\"scattermapbox\":[{\"type\":\"scattermapbox\",\"marker\":{\"colorbar\":{\"outlinewidth\":0,\"ticks\":\"\"}}}],\"scatterternary\":[{\"type\":\"scatterternary\",\"marker\":{\"colorbar\":{\"outlinewidth\":0,\"ticks\":\"\"}}}],\"scattercarpet\":[{\"type\":\"scattercarpet\",\"marker\":{\"colorbar\":{\"outlinewidth\":0,\"ticks\":\"\"}}}],\"carpet\":[{\"aaxis\":{\"endlinecolor\":\"#2a3f5f\",\"gridcolor\":\"white\",\"linecolor\":\"white\",\"minorgridcolor\":\"white\",\"startlinecolor\":\"#2a3f5f\"},\"baxis\":{\"endlinecolor\":\"#2a3f5f\",\"gridcolor\":\"white\",\"linecolor\":\"white\",\"minorgridcolor\":\"white\",\"startlinecolor\":\"#2a3f5f\"},\"type\":\"carpet\"}],\"table\":[{\"cells\":{\"fill\":{\"color\":\"#EBF0F8\"},\"line\":{\"color\":\"white\"}},\"header\":{\"fill\":{\"color\":\"#C8D4E3\"},\"line\":{\"color\":\"white\"}},\"type\":\"table\"}],\"barpolar\":[{\"marker\":{\"line\":{\"color\":\"#E5ECF6\",\"width\":0.5},\"pattern\":{\"fillmode\":\"overlay\",\"size\":10,\"solidity\":0.2}},\"type\":\"barpolar\"}],\"pie\":[{\"automargin\":true,\"type\":\"pie\"}]},\"layout\":{\"autotypenumbers\":\"strict\",\"colorway\":[\"#636efa\",\"#EF553B\",\"#00cc96\",\"#ab63fa\",\"#FFA15A\",\"#19d3f3\",\"#FF6692\",\"#B6E880\",\"#FF97FF\",\"#FECB52\"],\"font\":{\"color\":\"#2a3f5f\"},\"hovermode\":\"closest\",\"hoverlabel\":{\"align\":\"left\"},\"paper_bgcolor\":\"white\",\"plot_bgcolor\":\"#E5ECF6\",\"polar\":{\"bgcolor\":\"#E5ECF6\",\"angularaxis\":{\"gridcolor\":\"white\",\"linecolor\":\"white\",\"ticks\":\"\"},\"radialaxis\":{\"gridcolor\":\"white\",\"linecolor\":\"white\",\"ticks\":\"\"}},\"ternary\":{\"bgcolor\":\"#E5ECF6\",\"aaxis\":{\"gridcolor\":\"white\",\"linecolor\":\"white\",\"ticks\":\"\"},\"baxis\":{\"gridcolor\":\"white\",\"linecolor\":\"white\",\"ticks\":\"\"},\"caxis\":{\"gridcolor\":\"white\",\"linecolor\":\"white\",\"ticks\":\"\"}},\"coloraxis\":{\"colorbar\":{\"outlinewidth\":0,\"ticks\":\"\"}},\"colorscale\":{\"sequential\":[[0.0,\"#0d0887\"],[0.1111111111111111,\"#46039f\"],[0.2222222222222222,\"#7201a8\"],[0.3333333333333333,\"#9c179e\"],[0.4444444444444444,\"#bd3786\"],[0.5555555555555556,\"#d8576b\"],[0.6666666666666666,\"#ed7953\"],[0.7777777777777778,\"#fb9f3a\"],[0.8888888888888888,\"#fdca26\"],[1.0,\"#f0f921\"]],\"sequentialminus\":[[0.0,\"#0d0887\"],[0.1111111111111111,\"#46039f\"],[0.2222222222222222,\"#7201a8\"],[0.3333333333333333,\"#9c179e\"],[0.4444444444444444,\"#bd3786\"],[0.5555555555555556,\"#d8576b\"],[0.6666666666666666,\"#ed7953\"],[0.7777777777777778,\"#fb9f3a\"],[0.8888888888888888,\"#fdca26\"],[1.0,\"#f0f921\"]],\"diverging\":[[0,\"#8e0152\"],[0.1,\"#c51b7d\"],[0.2,\"#de77ae\"],[0.3,\"#f1b6da\"],[0.4,\"#fde0ef\"],[0.5,\"#f7f7f7\"],[0.6,\"#e6f5d0\"],[0.7,\"#b8e186\"],[0.8,\"#7fbc41\"],[0.9,\"#4d9221\"],[1,\"#276419\"]]},\"xaxis\":{\"gridcolor\":\"white\",\"linecolor\":\"white\",\"ticks\":\"\",\"title\":{\"standoff\":15},\"zerolinecolor\":\"white\",\"automargin\":true,\"zerolinewidth\":2},\"yaxis\":{\"gridcolor\":\"white\",\"linecolor\":\"white\",\"ticks\":\"\",\"title\":{\"standoff\":15},\"zerolinecolor\":\"white\",\"automargin\":true,\"zerolinewidth\":2},\"scene\":{\"xaxis\":{\"backgroundcolor\":\"#E5ECF6\",\"gridcolor\":\"white\",\"linecolor\":\"white\",\"showbackground\":true,\"ticks\":\"\",\"zerolinecolor\":\"white\",\"gridwidth\":2},\"yaxis\":{\"backgroundcolor\":\"#E5ECF6\",\"gridcolor\":\"white\",\"linecolor\":\"white\",\"showbackground\":true,\"ticks\":\"\",\"zerolinecolor\":\"white\",\"gridwidth\":2},\"zaxis\":{\"backgroundcolor\":\"#E5ECF6\",\"gridcolor\":\"white\",\"linecolor\":\"white\",\"showbackground\":true,\"ticks\":\"\",\"zerolinecolor\":\"white\",\"gridwidth\":2}},\"shapedefaults\":{\"line\":{\"color\":\"#2a3f5f\"}},\"annotationdefaults\":{\"arrowcolor\":\"#2a3f5f\",\"arrowhead\":0,\"arrowwidth\":1},\"geo\":{\"bgcolor\":\"white\",\"landcolor\":\"#E5ECF6\",\"subunitcolor\":\"white\",\"showland\":true,\"showlakes\":true,\"lakecolor\":\"white\"},\"title\":{\"x\":0.05},\"mapbox\":{\"style\":\"light\"}}},\"legend\":{\"tracegroupgap\":0},\"margin\":{\"t\":60},\"title\":{\"font\":{\"size\":24,\"color\":\"white\"},\"text\":\"Distribution of G rated movies by Genre\"},\"font\":{\"color\":\"white\"},\"plot_bgcolor\":\"black\",\"paper_bgcolor\":\"black\"},                        {\"responsive\": true}                    ).then(function(){\n",
       "                            \n",
       "var gd = document.getElementById('7e61da09-69f3-43f3-8310-f27b8240f077');\n",
       "var x = new MutationObserver(function (mutations, observer) {{\n",
       "        var display = window.getComputedStyle(gd).display;\n",
       "        if (!display || display === 'none') {{\n",
       "            console.log([gd, 'removed!']);\n",
       "            Plotly.purge(gd);\n",
       "            observer.disconnect();\n",
       "        }}\n",
       "}});\n",
       "\n",
       "// Listen for the removal of the full notebook cells\n",
       "var notebookContainer = gd.closest('#notebook-container');\n",
       "if (notebookContainer) {{\n",
       "    x.observe(notebookContainer, {childList: true});\n",
       "}}\n",
       "\n",
       "// Listen for the clearing of the current output cell\n",
       "var outputEl = gd.closest('.output');\n",
       "if (outputEl) {{\n",
       "    x.observe(outputEl, {childList: true});\n",
       "}}\n",
       "\n",
       "                        })                };                });            </script>        </div>"
      ]
     },
     "metadata": {},
     "output_type": "display_data"
    }
   ],
   "source": [
    "# Assuming 'pg_df' is your dataframe and it has columns 'genre' and 'count'\n",
    "fig1 = px.pie(g_df, names='genre', values='count', color='genre')\n",
    "\n",
    "# Update layout to match the desired styling\n",
    "fig1.update_layout(\n",
    "    plot_bgcolor='black',  # Set the figure background color to black\n",
    "    paper_bgcolor='black',  # Set the paper background color to black\n",
    "    title={'text': \"Distribution of G rated movies by Genre\", 'font': {'size': 24, 'color': 'white'}},\n",
    "    font={'color': 'white'}\n",
    ")\n",
    "\n",
    "# Update traces to add a border around the pie slices\n",
    "fig1.update_traces(marker=dict(line=dict(color='black', width=1)))\n",
    "\n",
    "# Show the figure\n",
    "fig1.show()"
   ]
  },
  {
   "cell_type": "markdown",
   "id": "f6bf9626-db0a-4e1c-bfb4-8984b14e1ff6",
   "metadata": {},
   "source": [
    "Examining the distribution shown in the pie chart (G Rated), a significant portion of G-rated movies (approximately 69%) fall into the Drama, Comedy, Adventure, and Animation genres.\n",
    "\n",
    "- This implies that when searching for a top 250 G-rated movie, one is most likely to encounter a film from the Adventure, Comedy, Drama, or Animation genres.\n",
    "- This G Rating discrete distribution is positively skewed (right-skewed), as indicated by the median being less than the mean."
   ]
  },
  {
   "cell_type": "markdown",
   "id": "b9a5fd06-1565-49d9-a500-e1363269cef2",
   "metadata": {},
   "source": [
    "Comparatively, it appears that the distribution of genres in both rating classes follows the same pattern, exhibiting a right-skewed distribution. For example, the top 4 genres in both ratings are Adventure, Comedy, Animation, and Drama.\n",
    "\n",
    "- However, the order of the top 4 genres differs between the ratings:\n",
    "    - **PG**: 1. Adventure, 2. Drama, 3. Animation, 4. Comedy\n",
    "    - **G**: 1. Adventure, 2. Comedy, 3. Animation, 4. Drama (since the percentages for Adventure & Comedy and Animation & Drama are the same, their placement can vary)\n",
    "- What does this mean?:\n",
    "    - Because of the skewed nature present within the rating distributions this affects the likelihood of viewers encountering specific genres when searching for top-rated movies.\n",
    "        - this could influence viewer preferences and expectations"
   ]
  },
  {
   "cell_type": "markdown",
   "id": "189cfc60-b987-48fd-a5dd-eec1073b6110",
   "metadata": {},
   "source": [
    "<div style=\"border: 2px solid gold; padding: 10px; background-color: white;\">\n",
    "    <span style=\"color: black; font-size: 28px;\">Conclusion:</span> \n",
    "</div>"
   ]
  },
  {
   "cell_type": "markdown",
   "id": "84264f3a",
   "metadata": {},
   "source": [
    "<div style=\"background-color: black; padding: 40px; color: gold; font-size: 24px; min-height: 100vh;\">\n",
    "\n",
    "We successfully scraped data from the IMDb Top 250 and answered the following questions:\n",
    "\n",
    "Question 1: \n",
    "    \n",
    "Is there a relationship between movie duration and release year?</h2>\n",
    "There is a slight upward trend in movie duration from 1921 to 1978.\n",
    "\n",
    "- **1924:** The year with the shortest movie duration.\n",
    "\n",
    "- **1978:** The year with the longest movie duration.\n",
    "\n",
    "**When looking by decade:**\n",
    "\n",
    "- **1920s:** The decade with the shortest movie duration.\n",
    "\n",
    "- **1960s:** The decade with the longest movie duration.\n",
    "\n",
    "<hr style=\"background-color: gold; height: 2px; border: none; margin: 20px 0;\">\n",
    "\n",
    "Question 2:\n",
    "\n",
    "Is there a correlation between Oscar nominations/wins and popularity?\n",
    "\n",
    "Average popularity scores decline for movies winning 1-5 Oscars before sharply increasing for those with more than 5. A similar trend occurs with nominations, where scores drop for 1-4 nominations and rise significantly for 5 or more.\n",
    "\n",
    "- Oscar nominations seem to affect a movie's popularity more than Oscar wins.\n",
    "\n",
    "- This suggests that winning or being nominated for an Oscar does not significantly impact popularity **until** a movie has at least 5 nominations or 6 wins.\n",
    "\n",
    "<hr style=\"background-color: gold; height: 2px; border: none; margin: 20px 0;\">\n",
    "\n",
    "Question 3: \n",
    "\n",
    "What is the distribution of genres within a rating class?\n",
    "\n",
    "- The selected classes follow a **right-skewed distribution** in terms of genre.\n",
    "\n",
    "- The skewed nature of the rating distributions affects the likelihood of viewers encountering specific genres when searching for top-rated movies.\n",
    "\n",
    "- This could influence viewer preferences and expectations.\n",
    "\n",
    "</div>\n"
   ]
  },
  {
   "cell_type": "code",
   "execution_count": null,
   "id": "72c3e357",
   "metadata": {},
   "outputs": [],
   "source": []
  }
 ],
 "metadata": {
  "kernelspec": {
   "display_name": "Python 3 (ipykernel)",
   "language": "python",
   "name": "python3"
  },
  "language_info": {
   "codemirror_mode": {
    "name": "ipython",
    "version": 3
   },
   "file_extension": ".py",
   "mimetype": "text/x-python",
   "name": "python",
   "nbconvert_exporter": "python",
   "pygments_lexer": "ipython3",
   "version": "3.11.8"
  },
  "toc": {
   "base_numbering": 1,
   "nav_menu": {},
   "number_sections": true,
   "sideBar": true,
   "skip_h1_title": false,
   "title_cell": "Table of Contents",
   "title_sidebar": "Contents",
   "toc_cell": false,
   "toc_position": {},
   "toc_section_display": true,
   "toc_window_display": false
  }
 },
 "nbformat": 4,
 "nbformat_minor": 5
}
